{
 "cells": [
  {
   "cell_type": "markdown",
   "id": "26a0ea25-f19b-4df9-bbc7-51325fa99ccd",
   "metadata": {
    "id": "26a0ea25-f19b-4df9-bbc7-51325fa99ccd",
    "jp-MarkdownHeadingCollapsed": true
   },
   "source": [
    "# 1 - PROBLEM\n",
    "\n",
    "## Requisitos\n",
    "\n",
    "[OK] 1. **Leitura de Dados:** Desenvolva um componente capaz de ler uma lista de objetos contidos em um arquivo JSON, representando informações sobre tema escolhidoes.\n",
    "\n",
    "[Falta redução] 2. **Mapeamento, Filtro e Redução:** Implemente funcionalidades para realizar mapeamento, filtragem e redução dos dados, proporcionando uma análise mais refinada das informações contidas no conjunto de dados.\n",
    "\n",
    "[OK] 3. **Manipulação de Dados Individuais:** Permita a leitura individual, atualização e exclusão de do arquivos, mantendo o arquivo JSON sempre atualizado.\n",
    "\n",
    "[OK, dentro do possível] 4. **Validações de Operações:** Integre validações utilizando blocos try-except e raise para garantir a robustez das operações, prevenindo erros e assegurando a consistência dos dados.\n",
    "\n",
    "[OK] 5. **Obtenção de Estatísticas Simples:** Desenvolva uma função para extrair dados estatísticos simples, como média, máximo e mínimo, por exemplo, sum item X nos dados de exatas.\n",
    "\n",
    "[Falta] 6. **Identificação de Máximos/Mínimos com Detalhes:** Crie uma função que retorne uma lista de tuplas, contendXdo professor e o valor máximo (ou mínimo) de algum atributo numérico. Esta função deve ser configurável para fornecer estatísticas de máximo ou mínimo.\n",
    "\n",
    "[OK] 7. **Exportação de Dados Estatísticos para CSV:** Implemente a capacidade de salvar os dados estatísticos obtidos em um arquivo CSV, permitindo uma análise posterior ou compartilhamento fácil dos resultados."
   ]
  },
  {
   "cell_type": "markdown",
   "id": "1e88ed0b-5775-423c-bb58-0348d7e558b1",
   "metadata": {
    "id": "1e88ed0b-5775-423c-bb58-0348d7e558b1"
   },
   "source": [
    "# 2 - IMPORTS"
   ]
  },
  {
   "cell_type": "markdown",
   "id": "2a3537e6-5b90-4699-b228-52bb09ce006c",
   "metadata": {
    "id": "2a3537e6-5b90-4699-b228-52bb09ce006c"
   },
   "source": [
    "## 2.1 - Bibliotecas"
   ]
  },
  {
   "cell_type": "code",
   "execution_count": 1,
   "id": "f867f964-c4d4-4934-80bb-1c5626279718",
   "metadata": {
    "id": "f867f964-c4d4-4934-80bb-1c5626279718"
   },
   "outputs": [],
   "source": [
    "import json\n",
    "from funcoes import obter_opcoes\n",
    "import csv\n",
    "from IPython.display import clear_output"
   ]
  },
  {
   "cell_type": "markdown",
   "id": "486216f6-bc4f-4349-9d7c-02cfbedf1fc4",
   "metadata": {
    "id": "486216f6-bc4f-4349-9d7c-02cfbedf1fc4"
   },
   "source": [
    "## 2.2 - Funções"
   ]
  },
  {
   "cell_type": "markdown",
   "id": "58a835a0-27da-4ab6-b336-c9d1398053a4",
   "metadata": {
    "id": "58a835a0-27da-4ab6-b336-c9d1398053a4"
   },
   "source": [
    "### 2.2.1 - Leitura do Arquivo"
   ]
  },
  {
   "cell_type": "code",
   "execution_count": 2,
   "id": "58bfbdae-660f-4656-8246-2b575bb83a9a",
   "metadata": {
    "id": "58bfbdae-660f-4656-8246-2b575bb83a9a"
   },
   "outputs": [],
   "source": [
    "def carrega_dados(path:str = 'data/receitas.json') -> list[dict]:\n",
    "    try:\n",
    "        with open(path, 'r', encoding='utf-8') as arquivo:\n",
    "            dados = arquivo.read()\n",
    "            return json.loads(dados)\n",
    "    except FileNotFoundError:\n",
    "        return []"
   ]
  },
  {
   "cell_type": "markdown",
   "id": "00a11b9d-a68b-4883-9a19-6e9d9c8f4908",
   "metadata": {
    "id": "00a11b9d-a68b-4883-9a19-6e9d9c8f4908"
   },
   "source": [
    "### 2.2.2 - Salvamento do Arquivo"
   ]
  },
  {
   "cell_type": "code",
   "execution_count": 3,
   "id": "b163b91f-3dfa-43ef-b061-13a176e0661d",
   "metadata": {
    "id": "b163b91f-3dfa-43ef-b061-13a176e0661d"
   },
   "outputs": [],
   "source": [
    "def salvar_dados(dados:list[dict], path:str = 'data/receitas.json') -> bool:\n",
    "    try:\n",
    "        with open(path, 'w', encoding='utf-8') as arquivo:\n",
    "            arquivo.write(json.dumps(dados))\n",
    "            return True\n",
    "    except Exception:\n",
    "        return False"
   ]
  },
  {
   "cell_type": "markdown",
   "id": "72eb0087-4a1a-4911-b0a2-dbe86b710e0c",
   "metadata": {
    "id": "72eb0087-4a1a-4911-b0a2-dbe86b710e0c"
   },
   "source": [
    "### 2.2.3 - Visualização do Arquivo"
   ]
  },
  {
   "cell_type": "code",
   "execution_count": 4,
   "id": "7b6497fc-991c-4371-b6a5-7810bd809d1d",
   "metadata": {
    "id": "7b6497fc-991c-4371-b6a5-7810bd809d1d"
   },
   "outputs": [],
   "source": [
    "def formata_dicionario(dados: dict) -> str:\n",
    "    return ' | '.join([f'{k}: {v}' for k, v in dados.items()])"
   ]
  },
  {
   "cell_type": "code",
   "execution_count": 5,
   "id": "779a87a8-2774-474d-b90c-2309a2ca5633",
   "metadata": {
    "id": "779a87a8-2774-474d-b90c-2309a2ca5633"
   },
   "outputs": [],
   "source": [
    "def formata_ingredientes(ingredientes: list) -> str:\n",
    "    return '\\n  '.join(map(formata_dicionario, ingredientes))"
   ]
  },
  {
   "cell_type": "code",
   "execution_count": 6,
   "id": "06875c72-c4b3-4bd7-8ac9-f6ccda5ce7ca",
   "metadata": {
    "id": "06875c72-c4b3-4bd7-8ac9-f6ccda5ce7ca"
   },
   "outputs": [],
   "source": [
    "def formata_receita(receita):\n",
    "    nome = receita['nome']\n",
    "    ingredientes = formata_ingredientes(receita['ingredientes'])\n",
    "    instrucoes = receita['instrucoes']\n",
    "    return f'{nome}:\\n Ingredientes:\\n  {ingredientes}\\n Instruções: {instrucoes}\\n'"
   ]
  },
  {
   "cell_type": "code",
   "execution_count": 7,
   "id": "3bca0509-f9d5-412e-84e7-ad6654e6a943",
   "metadata": {
    "id": "3bca0509-f9d5-412e-84e7-ad6654e6a943"
   },
   "outputs": [],
   "source": [
    "def formata_lista_receitas(lista_receitas):\n",
    "    return '\\n'.join(map(formata_receita, lista_receitas))"
   ]
  },
  {
   "cell_type": "markdown",
   "id": "4f95365a-41bc-456d-88e5-cdab8e86183c",
   "metadata": {
    "id": "4f95365a-41bc-456d-88e5-cdab8e86183c"
   },
   "source": [
    "### 2.2.4 - Adiciona Elemento"
   ]
  },
  {
   "cell_type": "code",
   "execution_count": 8,
   "id": "011ef1ae-1479-4346-a3ed-c76a401aed29",
   "metadata": {
    "id": "011ef1ae-1479-4346-a3ed-c76a401aed29"
   },
   "outputs": [],
   "source": [
    "def obter_nome():\n",
    "    while True:\n",
    "        nome = input(\"Digite o nome da receita: \").strip().title()\n",
    "        if nome:\n",
    "            return nome\n",
    "        else:\n",
    "            print(\"Nome inválido. Por favor, digite novamente.\")"
   ]
  },
  {
   "cell_type": "code",
   "execution_count": 9,
   "id": "c6401c04-73a5-48fb-b61d-2f079a52ae6b",
   "metadata": {
    "id": "c6401c04-73a5-48fb-b61d-2f079a52ae6b"
   },
   "outputs": [],
   "source": [
    "def obter_ingrediente():\n",
    "    while True:\n",
    "        ingrediente = input(\"Digite o nome do ingrediente (ou 'fim' para encerrar): \").strip().title()\n",
    "        if ingrediente.lower() == 'fim' or ingrediente:\n",
    "            return ingrediente\n",
    "        else:\n",
    "            print(\"Ingrediente inválido. Por favor, digite novamente.\")"
   ]
  },
  {
   "cell_type": "code",
   "execution_count": 10,
   "id": "2a0c0932-1e8e-41df-a829-44faf3ce427f",
   "metadata": {
    "id": "2a0c0932-1e8e-41df-a829-44faf3ce427f"
   },
   "outputs": [],
   "source": [
    "def obter_quantidade():\n",
    "    while True:\n",
    "        quantidade = input(\"Digite a quantidade do ingrediente e sua unidade: \")\n",
    "        return quantidade"
   ]
  },
  {
   "cell_type": "code",
   "execution_count": 11,
   "id": "84817226-7699-4b24-8378-41cd6dd42d75",
   "metadata": {
    "id": "84817226-7699-4b24-8378-41cd6dd42d75"
   },
   "outputs": [],
   "source": [
    "def obter_custo():\n",
    "    while True:\n",
    "        custo = input(\"Digite o valor do ingrediente: \")\n",
    "        if custo and validar_numero(custo):\n",
    "            return float(custo)\n",
    "        else:\n",
    "            print(\"Custo inválido. Por favor, digite novamente.\")"
   ]
  },
  {
   "cell_type": "code",
   "execution_count": 12,
   "id": "e9755465-ff58-4e31-9df9-61fdb7735a8d",
   "metadata": {
    "id": "e9755465-ff58-4e31-9df9-61fdb7735a8d"
   },
   "outputs": [],
   "source": [
    "def validar_numero(valor):\n",
    "    try:\n",
    "        return float(valor) >= 0\n",
    "    except ValueError:\n",
    "        return False"
   ]
  },
  {
   "cell_type": "code",
   "execution_count": 13,
   "id": "54b14191-e8c4-4285-8ab8-0315bdf8fa36",
   "metadata": {
    "id": "54b14191-e8c4-4285-8ab8-0315bdf8fa36"
   },
   "outputs": [],
   "source": [
    "def obter_instrucao():\n",
    "    return input(\"Digite a instrução de preparo da receita: \").capitalize()"
   ]
  },
  {
   "cell_type": "code",
   "execution_count": 14,
   "id": "9d6e1ee9-f291-4fd2-bd4c-572760ca0821",
   "metadata": {
    "id": "9d6e1ee9-f291-4fd2-bd4c-572760ca0821"
   },
   "outputs": [],
   "source": [
    "def criar_nova_receita(dados: list[dict]) -> bool:\n",
    "    nova_receita = {'nome': obter_nome(), 'ingredientes': []}\n",
    "\n",
    "    while True:\n",
    "        ingrediente = obter_ingrediente()\n",
    "        if ingrediente.lower() == 'fim':\n",
    "            break\n",
    "\n",
    "        quantidade = obter_quantidade()\n",
    "        custo = obter_custo()\n",
    "\n",
    "        nova_receita['ingredientes'].append({\n",
    "            'nome': ingrediente,\n",
    "            'quantidade': quantidade,\n",
    "            'custo': custo\n",
    "        })\n",
    "\n",
    "    nova_receita['instrucoes'] = obter_instrucao()\n",
    "\n",
    "    dados.append(nova_receita)\n",
    "    return True"
   ]
  },
  {
   "cell_type": "markdown",
   "id": "QAZ6Jl8c2YRL",
   "metadata": {
    "id": "QAZ6Jl8c2YRL"
   },
   "source": [
    "### 2.2.5 - Buscar Elementos\n"
   ]
  },
  {
   "cell_type": "code",
   "execution_count": 15,
   "id": "2fed9dd4-ac7b-4f30-8266-45a587a5ac50",
   "metadata": {},
   "outputs": [],
   "source": [
    "def busca(data: list[dict], input_name: str, field='nome') -> list[dict]:    \n",
    "    return list(filter(lambda item: item[field].strip().title() == input_name.strip().title(), data))"
   ]
  },
  {
   "cell_type": "code",
   "execution_count": 16,
   "id": "4831e961-5b85-40e2-886c-62655c3fedee",
   "metadata": {},
   "outputs": [],
   "source": [
    "def verifica_busca(data: list[dict]):    \n",
    "    if not data:\n",
    "        print(f'\\nNão encontrado.\\n')\n",
    "    return data"
   ]
  },
  {
   "cell_type": "markdown",
   "id": "e366529a-3f70-4bbf-8697-e3e55ceb374e",
   "metadata": {},
   "source": [
    "### 2.2.6 - Alterar Elementos"
   ]
  },
  {
   "cell_type": "code",
   "execution_count": 17,
   "id": "CmfbS1uA2YRM",
   "metadata": {
    "id": "CmfbS1uA2YRM"
   },
   "outputs": [],
   "source": [
    "def executa_alteracao(opc, opc_funcao, dado: dict) -> None:\n",
    "    while True:\n",
    "        opcao = obter_opcoes(opc, 'Escolha o campo a ser alterado')\n",
    "\n",
    "        if opcao == 'F':\n",
    "            break\n",
    "        opc_funcao[opcao][1](dado)"
   ]
  },
  {
   "cell_type": "code",
   "execution_count": 18,
   "id": "Hb0t7JYC2YRM",
   "metadata": {
    "id": "Hb0t7JYC2YRM"
   },
   "outputs": [],
   "source": [
    "def atualizar_nome_ingrediente(ingredientes):\n",
    "    ingredientes['ingrediente'] = obter_ingrediente()\n",
    "\n",
    "def atualizar_quantidade(ingredientes):\n",
    "    ingredientes['quantidade'] = obter_quantidade()\n",
    "\n",
    "def atualizar_custo(ingredientes):\n",
    "    ingredientes['custo'] = obter_custo()"
   ]
  },
  {
   "cell_type": "code",
   "execution_count": 19,
   "id": "mImwkEAX2YRN",
   "metadata": {
    "id": "mImwkEAX2YRN"
   },
   "outputs": [],
   "source": [
    "def alterar_receita(receitas: list[dict]) -> bool:\n",
    "    alterado = verifica_busca(busca(receitas, obter_nome(), 'nome'))\n",
    "\n",
    "    if not alterado:        \n",
    "        return False\n",
    "\n",
    "    alterado = alterado[0]\n",
    "\n",
    "    opc = {\n",
    "        'N': 'Nome',\n",
    "        'I': 'Ingredientes',\n",
    "        'P': 'Instruções de Preparo',\n",
    "        'F': 'Finalizar'\n",
    "    }\n",
    "\n",
    "    opc_funcao = {\n",
    "        'N' : ('nome', atualizar_nome),\n",
    "        'I': ('ingredientes', atualizar_ingrediente),\n",
    "        'P': ('instrucoes', atualizar_instrucao),\n",
    "    }\n",
    "\n",
    "    msg = f'Tem certeza que deseja alterar [{formata_receita(alterado)}]'\n",
    "\n",
    "    if obter_opcoes({'S': 'Sim', 'N': 'Não'}, msg) == 'S':\n",
    "        executa_alteracao(opc, opc_funcao, alterado)\n",
    "        return True\n",
    "    else:\n",
    "        return False"
   ]
  },
  {
   "cell_type": "code",
   "execution_count": 20,
   "id": "IFKdSCLr2YRN",
   "metadata": {
    "id": "IFKdSCLr2YRN"
   },
   "outputs": [],
   "source": [
    "def atualizar_nome(receita: dict):\n",
    "    receita['nome'] = obter_nome()\n",
    "\n",
    "def atualizar_instrucao(receita: dict):\n",
    "    receita['instrucoes'] = obter_instrucao()\n",
    "\n",
    "def atualizar_ingrediente(receita: dict) -> bool:\n",
    "    opc = {\n",
    "        'I': 'Ingrediente',\n",
    "        'Q': 'Quantidade',\n",
    "        'C': 'Custo',\n",
    "        'F': 'Finalizar'\n",
    "    }\n",
    "\n",
    "    opc_funcao = {\n",
    "        'I' : ('ingrediente', atualizar_nome_ingrediente),\n",
    "        'Q': ('quantidade', atualizar_quantidade),\n",
    "        'C': ('custo', atualizar_custo)\n",
    "    }\n",
    "    ingredientes = receita['ingredientes']\n",
    "    alterado = verifica_busca(busca(ingredientes, obter_ingrediente(), 'ingrediente'))\n",
    "\n",
    "    if not alterado:\n",
    "        return False\n",
    "\n",
    "    msg = f'Tem certeza que deseja alterar [{formata_ingredientes(alterado)}]'\n",
    "\n",
    "    alterado = alterado[0]\n",
    "\n",
    "    if obter_opcoes({'S': 'Sim', 'N': 'Não'}, msg) == 'S':\n",
    "        executa_alteracao(opc, opc_funcao, alterado)\n",
    "        return True\n",
    "    else:\n",
    "        return False"
   ]
  },
  {
   "cell_type": "markdown",
   "id": "e63627cf",
   "metadata": {},
   "source": [
    "### 2.2.7 - Deletar"
   ]
  },
  {
   "cell_type": "code",
   "execution_count": 21,
   "id": "24f01a78",
   "metadata": {},
   "outputs": [],
   "source": [
    "def deletar_ingrediente(receitas: list[dict]) -> bool:\n",
    "    receita = verifica_busca(busca(receitas, obter_nome(), 'nome'))\n",
    "    if not receita:\n",
    "        return False\n",
    "        \n",
    "    ingredientes = receita[0]['ingredientes']\n",
    "    apagado = verifica_busca(busca(ingredientes, obter_ingrediente(), 'ingrediente'))\n",
    "    \n",
    "    if not apagado:        \n",
    "        return False\n",
    "    \n",
    "    msg = f'Tem certeza que deseja excluir [{formata_ingredientes(apagado)}]'\n",
    "    \n",
    "    apagado = apagado[0]\n",
    "\n",
    "    if obter_opcoes({'S': 'Sim', 'N': 'Não'}, msg) == 'S':\n",
    "        ingredientes.remove(apagado)\n",
    "        return True\n",
    "    else:\n",
    "        return False"
   ]
  },
  {
   "cell_type": "code",
   "execution_count": 22,
   "id": "f52b6d3d",
   "metadata": {},
   "outputs": [],
   "source": [
    "def deletar_receita(receitas: list[dict]) -> bool:\n",
    "    apagado = verifica_busca(busca(receitas, obter_nome(), 'nome'))\n",
    "    \n",
    "    if not apagado:        \n",
    "        return False\n",
    "    \n",
    "    apagado = apagado[0]\n",
    "    \n",
    "    msg = f'Tem certeza que deseja excluir [{formata_receita(apagado)}]'\n",
    "    \n",
    "    if obter_opcoes({'S': 'Sim', 'N': 'Não'}, msg) == 'S':\n",
    "        receitas.remove(apagado)\n",
    "        return True\n",
    "    else:\n",
    "        return False"
   ]
  },
  {
   "cell_type": "markdown",
   "id": "HvrABjWJ4E_9",
   "metadata": {
    "id": "HvrABjWJ4E_9"
   },
   "source": [
    "### 2.2.8 - Calculando Custos"
   ]
  },
  {
   "cell_type": "code",
   "execution_count": 23,
   "id": "c7f5ee40",
   "metadata": {},
   "outputs": [],
   "source": [
    "def calcula_custo(receita):\n",
    "    custos_por_receita = []\n",
    "    for item in receita:\n",
    "        custo = round(sum(ingrediente[\"custo\"] for ingrediente in item[\"ingredientes\"]), 2)\n",
    "        nome = item[\"nome\"]\n",
    "        custos_por_receita.append((nome, custo))\n",
    "    return custos_por_receita"
   ]
  },
  {
   "cell_type": "code",
   "execution_count": 24,
   "id": "49501875",
   "metadata": {},
   "outputs": [],
   "source": [
    "def receita_mais_cara(data):\n",
    "    maior_preco = max(data, key=lambda x: x[1])\n",
    "    return [item for item in data if item[1] >= maior_preco[1]]"
   ]
  },
  {
   "cell_type": "code",
   "execution_count": 25,
   "id": "ef720a1f",
   "metadata": {},
   "outputs": [],
   "source": [
    "def receita_mais_barata(data):\n",
    "    menor_preco = min(data, key=lambda x: x[1])\n",
    "    return [item for item in data if item[1] <= menor_preco[1]]"
   ]
  },
  {
   "cell_type": "markdown",
   "id": "8c57c578",
   "metadata": {},
   "source": [
    "### 2.2.9 - Salvar Dados Estatístico em um CSV"
   ]
  },
  {
   "cell_type": "code",
   "execution_count": 26,
   "id": "6ba675da",
   "metadata": {},
   "outputs": [],
   "source": [
    "def salvar_dados_estatistico(dados) -> bool:\n",
    "    custo = calcula_custo(dados)    \n",
    "    mais_cara = receita_mais_cara(custo)\n",
    "    mais_barata = receita_mais_barata(custo)\n",
    "\n",
    "    tabela = [custo, mais_cara, mais_barata]\n",
    "    \n",
    "    # cria o arquivo CSV\n",
    "    arquivo = open('Dados Estatisticos.csv', 'w', encoding='utf-8-sig')\n",
    "\n",
    "    # definindo as regras do nosso CSV:\n",
    "    # ele será escrito no arquivo apontado pela variável 'arquivo'\n",
    "    # seus elementos serão delimitados (delimiter) pelo símbolo ';'\n",
    "    # suas linhas serão encerradas (lineterminator) por uma quebra de linha\n",
    "    escritor = csv.writer(arquivo, delimiter=';', lineterminator='\\n')\n",
    "\n",
    "    # escreve uma lista de listas em formato CSV:\n",
    "    escritor.writerows(tabela)\n",
    "\n",
    "    # fecha e salva o arquivo\n",
    "    arquivo.close()\n",
    "\n",
    "    return True"
   ]
  },
  {
   "cell_type": "markdown",
   "id": "bb33990a-5698-48a3-acd8-c86a43166314",
   "metadata": {},
   "source": [
    "### 2.2.10 - Visualizar"
   ]
  },
  {
   "cell_type": "code",
   "execution_count": 33,
   "id": "72b3181e-97fd-49bb-a94f-f2a928ec974c",
   "metadata": {},
   "outputs": [],
   "source": [
    "def exibir_receita(dados):\n",
    "    receita = formata_lista_receitas(verifica_busca(busca(dados, obter_nome())))\n",
    "    print(f'\\n{receita}')"
   ]
  },
  {
   "cell_type": "code",
   "execution_count": 28,
   "id": "245602db-ca6e-46b9-902b-fa1428e608b6",
   "metadata": {},
   "outputs": [],
   "source": [
    "def exibir_todas_receitas(dados):\n",
    "    print(formata_lista_receitas(dados))"
   ]
  },
  {
   "cell_type": "markdown",
   "id": "74f1ed3b",
   "metadata": {},
   "source": [
    "# 3 - Menu Principal"
   ]
  },
  {
   "cell_type": "code",
   "execution_count": 29,
   "id": "b603797e",
   "metadata": {},
   "outputs": [],
   "source": [
    "def sair(dados):\n",
    "    pass"
   ]
  },
  {
   "cell_type": "code",
   "execution_count": 30,
   "id": "c3595889",
   "metadata": {},
   "outputs": [],
   "source": [
    "opc = {\n",
    "    '1': 'Criar nova receita\\n', \n",
    "    '2': 'Alterar receita\\n', \n",
    "    '3': 'Deletar receita\\n', \n",
    "    '4': 'Deletar ingrediente\\n', \n",
    "    '5': 'Buscar\\n', \n",
    "    '6': 'Exibir Todos\\n',\n",
    "    '7': 'Obter Dados Estatísticos .csv\\n',\n",
    "    '8': 'Sair\\n'\n",
    "}\n",
    "\n",
    "opc_func = {\n",
    "    '1': criar_nova_receita,\n",
    "    '2': alterar_receita,\n",
    "    '3': deletar_receita,\n",
    "    '4': deletar_ingrediente,\n",
    "    '5': exibir_receita,\n",
    "    '6': exibir_todas_receitas,\n",
    "    '7': salvar_dados_estatistico,\n",
    "    '8': sair\n",
    "}"
   ]
  },
  {
   "cell_type": "code",
   "execution_count": 32,
   "id": "15c547fe",
   "metadata": {},
   "outputs": [
    {
     "name": "stdin",
     "output_type": "stream",
     "text": [
      "\n",
      "==================== MENU ==================== \n",
      " 1 - Criar nova receita\n",
      " 2 - Alterar receita\n",
      " 3 - Deletar receita\n",
      " 4 - Deletar ingrediente\n",
      " 5 - Buscar\n",
      " 6 - Exibir Todos\n",
      " 7 - Obter Dados Estatísticos .csv\n",
      " 8 - Sair\n",
      " Opções: 8\n"
     ]
    },
    {
     "name": "stdout",
     "output_type": "stream",
     "text": [
      "\n",
      "Obrigado por utilizar o software\n"
     ]
    }
   ],
   "source": [
    "saida = False\n",
    "while not saida:\n",
    "    dados = carrega_dados()\n",
    "    opcao = obter_opcoes(opc, '\\n==================== MENU ====================')\n",
    "    opc_func[opcao](dados)\n",
    "    \n",
    "    salvar_dados(dados)\n",
    "\n",
    "    if opcao == '8':\n",
    "        saida = True\n",
    "else:\n",
    "    print('\\nObrigado por utilizar o software')"
   ]
  },
  {
   "cell_type": "code",
   "execution_count": null,
   "id": "c69e9c36-6808-44f6-9303-79fecc7fe0a0",
   "metadata": {},
   "outputs": [],
   "source": []
  }
 ],
 "metadata": {
  "colab": {
   "provenance": []
  },
  "kernelspec": {
   "display_name": "Python 3 (ipykernel)",
   "language": "python",
   "name": "python3"
  },
  "language_info": {
   "codemirror_mode": {
    "name": "ipython",
    "version": 3
   },
   "file_extension": ".py",
   "mimetype": "text/x-python",
   "name": "python",
   "nbconvert_exporter": "python",
   "pygments_lexer": "ipython3",
   "version": "3.11.5"
  }
 },
 "nbformat": 4,
 "nbformat_minor": 5
}
