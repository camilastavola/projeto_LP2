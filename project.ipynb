{
  "cells": [
    {
      "cell_type": "markdown",
      "id": "26a0ea25-f19b-4df9-bbc7-51325fa99ccd",
      "metadata": {
        "id": "26a0ea25-f19b-4df9-bbc7-51325fa99ccd",
        "jp-MarkdownHeadingCollapsed": true
      },
      "source": [
        "# 1 - PROBLEM\n",
        "\n",
        "## Requisitos\n",
        "\n",
        "[OK] 1. **Leitura de Dados:** Desenvolva um componente capaz de ler uma lista de objetos contidos em um arquivo JSON, representando informações sobre tema escolhidoes.\n",
        "\n",
        "[Falta redução e filtro] 2. **Mapeamento, Filtro e Redução:** Implemente funcionalidades para realizar mapeamento, filtragem e redução dos dados, proporcionando uma análise mais refinada das informações contidas no conjunto de dados.\n",
        "\n",
        "[OK] 3. **Manipulação de Dados Individuais:** Permita a leitura individual, atualização e exclusão de do arquivos, mantendo o arquivo JSON sempre atualizado.\n",
        "\n",
        "[OK, dentro do possível] 4. **Validações de Operações:** Integre validações utilizando blocos try-except e raise para garantir a robustez das operações, prevenindo erros e assegurando a consistência dos dados.\n",
        "\n",
        "[OK] 5. **Obtenção de Estatísticas Simples:** Desenvolva uma função para extrair dados estatísticos simples, como média, máximo e mínimo, por exemplo, sum item X nos dados de exatas.\n",
        "\n",
        "[Falta] 6. **Identificação de Máximos/Mínimos com Detalhes:** Crie uma função que retorne uma lista de tuplas, contendXdo professor e o valor máximo (ou mínimo) de algum atributo numérico. Esta função deve ser configurável para fornecer estatísticas de máximo ou mínimo.\n",
        "\n",
        "[OK] 7. **Exportação de Dados Estatísticos para CSV:** Implemente a capacidade de salvar os dados estatísticos obtidos em um arquivo CSV, permitindo uma análise posterior ou compartilhamento fácil dos resultados."
      ]
    },
    {
      "cell_type": "markdown",
      "id": "1e88ed0b-5775-423c-bb58-0348d7e558b1",
      "metadata": {
        "id": "1e88ed0b-5775-423c-bb58-0348d7e558b1"
      },
      "source": [
        "# 2 - IMPORTS"
      ]
    },
    {
      "cell_type": "markdown",
      "id": "2a3537e6-5b90-4699-b228-52bb09ce006c",
      "metadata": {
        "id": "2a3537e6-5b90-4699-b228-52bb09ce006c",
        "jp-MarkdownHeadingCollapsed": true
      },
      "source": [
        "## 2.1 - Bibliotecas"
      ]
    },
    {
      "cell_type": "code",
      "execution_count": 7,
      "id": "f867f964-c4d4-4934-80bb-1c5626279718",
      "metadata": {
        "id": "f867f964-c4d4-4934-80bb-1c5626279718"
      },
      "outputs": [],
      "source": [
        "import json\n",
        "from funcoes import obter_opcoes\n",
        "import csv\n",
        "from IPython.display import clear_output"
      ]
    },
    {
      "cell_type": "markdown",
      "id": "486216f6-bc4f-4349-9d7c-02cfbedf1fc4",
      "metadata": {
        "id": "486216f6-bc4f-4349-9d7c-02cfbedf1fc4"
      },
      "source": [
        "## 2.2 - Funções"
      ]
    },
    {
      "cell_type": "markdown",
      "id": "58a835a0-27da-4ab6-b336-c9d1398053a4",
      "metadata": {
        "id": "58a835a0-27da-4ab6-b336-c9d1398053a4",
        "jp-MarkdownHeadingCollapsed": true
      },
      "source": [
        "### 2.2.1 - Leitura do Arquivo"
      ]
    },
    {
      "cell_type": "code",
      "execution_count": 8,
      "id": "58bfbdae-660f-4656-8246-2b575bb83a9a",
      "metadata": {
        "id": "58bfbdae-660f-4656-8246-2b575bb83a9a"
      },
      "outputs": [],
      "source": [
        "def carrega_dados(path:str = 'data/receitas.json') -> list[dict]:\n",
        "    try:\n",
        "        with open(path, 'r', encoding='utf-8') as arquivo:\n",
        "            dados = arquivo.read()\n",
        "            return json.loads(dados)\n",
        "    except FileNotFoundError:\n",
        "        return []"
      ]
    },
    {
      "cell_type": "markdown",
      "id": "00a11b9d-a68b-4883-9a19-6e9d9c8f4908",
      "metadata": {
        "id": "00a11b9d-a68b-4883-9a19-6e9d9c8f4908",
        "jp-MarkdownHeadingCollapsed": true
      },
      "source": [
        "### 2.2.2 - Salvamento do Arquivo"
      ]
    },
    {
      "cell_type": "code",
      "execution_count": 4,
      "id": "b163b91f-3dfa-43ef-b061-13a176e0661d",
      "metadata": {
        "id": "b163b91f-3dfa-43ef-b061-13a176e0661d"
      },
      "outputs": [],
      "source": [
        "def salvar_dados(dados:list[dict], path:str = 'data/receitas.json') -> bool:\n",
        "    try:\n",
        "        with open(path, 'w', encoding='utf-8') as arquivo:\n",
        "            arquivo.write(json.dumps(dados))\n",
        "            return True\n",
        "    except Exception:\n",
        "        return False"
      ]
    },
    {
      "cell_type": "markdown",
      "id": "72eb0087-4a1a-4911-b0a2-dbe86b710e0c",
      "metadata": {
        "id": "72eb0087-4a1a-4911-b0a2-dbe86b710e0c",
        "jp-MarkdownHeadingCollapsed": true
      },
      "source": [
        "### 2.2.3 - Visualização do Arquivo"
      ]
    },
    {
      "cell_type": "code",
      "execution_count": 5,
      "id": "7b6497fc-991c-4371-b6a5-7810bd809d1d",
      "metadata": {
        "id": "7b6497fc-991c-4371-b6a5-7810bd809d1d"
      },
      "outputs": [],
      "source": [
        "def formata_dicionario(dados: dict) -> str:\n",
        "    return ' | '.join([f'{k}: {v}' for k, v in dados.items()])"
      ]
    },
    {
      "cell_type": "code",
      "execution_count": 6,
      "id": "779a87a8-2774-474d-b90c-2309a2ca5633",
      "metadata": {
        "id": "779a87a8-2774-474d-b90c-2309a2ca5633"
      },
      "outputs": [],
      "source": [
        "def formata_ingredientes(ingredientes: list) -> str:\n",
        "    return '\\n  '.join(map(formata_dicionario, ingredientes))"
      ]
    },
    {
      "cell_type": "code",
      "execution_count": 7,
      "id": "06875c72-c4b3-4bd7-8ac9-f6ccda5ce7ca",
      "metadata": {
        "id": "06875c72-c4b3-4bd7-8ac9-f6ccda5ce7ca"
      },
      "outputs": [],
      "source": [
        "def formata_receita(receita):\n",
        "    nome = receita['nome']\n",
        "    ingredientes = formata_ingredientes(receita['ingredientes'])\n",
        "    instrucoes = receita['instrucoes']\n",
        "    return f'{nome}:\\n Ingredientes:\\n  {ingredientes}\\n Instruções: {instrucoes}\\n'"
      ]
    },
    {
      "cell_type": "code",
      "execution_count": 8,
      "id": "3bca0509-f9d5-412e-84e7-ad6654e6a943",
      "metadata": {
        "id": "3bca0509-f9d5-412e-84e7-ad6654e6a943"
      },
      "outputs": [],
      "source": [
        "def formata_lista_receitas(lista_receitas):\n",
        "    return '\\n'.join(map(formata_receita, lista_receitas))"
      ]
    },
    {
      "cell_type": "markdown",
      "id": "e402cbd1",
      "metadata": {
        "id": "e402cbd1"
      },
      "source": [
        "### 2.2.4 - Leitura do Arquivo * (está como leitura novamente, melhor outro título)"
      ]
    },
    {
      "cell_type": "code",
      "execution_count": 9,
      "id": "4e1dbb74",
      "metadata": {
        "id": "4e1dbb74"
      },
      "outputs": [],
      "source": [
        "def retorna_dicionario(dado: dict, escolha=''):\n",
        "    return dado if escolha in dado['nome'] else None"
      ]
    },
    {
      "cell_type": "code",
      "execution_count": 10,
      "id": "850d8333",
      "metadata": {
        "id": "850d8333"
      },
      "outputs": [],
      "source": [
        "def verifica_escolha(data, escolha=''):\n",
        "    resultado = []\n",
        "    for dado in data:\n",
        "        if retorna_dicionario(dado, escolha) is not None:\n",
        "            resultado.append(dado)\n",
        "    return resultado"
      ]
    },
    {
      "cell_type": "markdown",
      "id": "4f95365a-41bc-456d-88e5-cdab8e86183c",
      "metadata": {
        "id": "4f95365a-41bc-456d-88e5-cdab8e86183c"
      },
      "source": [
        "### 2.2.5 - Adiciona Elemento"
      ]
    },
    {
      "cell_type": "code",
      "execution_count": 11,
      "id": "011ef1ae-1479-4346-a3ed-c76a401aed29",
      "metadata": {
        "id": "011ef1ae-1479-4346-a3ed-c76a401aed29"
      },
      "outputs": [],
      "source": [
        "def obter_nome():\n",
        "    while True:\n",
        "        nome = input(\"Digite o nome da receita: \").strip().title()\n",
        "        if nome:\n",
        "            return nome\n",
        "        else:\n",
        "            print(\"Nome inválido. Por favor, digite novamente.\")"
      ]
    },
    {
      "cell_type": "code",
      "execution_count": 12,
      "id": "c6401c04-73a5-48fb-b61d-2f079a52ae6b",
      "metadata": {
        "id": "c6401c04-73a5-48fb-b61d-2f079a52ae6b"
      },
      "outputs": [],
      "source": [
        "def obter_ingrediente():\n",
        "    while True:\n",
        "        ingrediente = input(\"Digite o nome do ingrediente (ou 'fim' para encerrar): \").strip().title()\n",
        "        if ingrediente.lower() == 'fim' or ingrediente:\n",
        "            return ingrediente\n",
        "        else:\n",
        "            print(\"Ingrediente inválido. Por favor, digite novamente.\")"
      ]
    },
    {
      "cell_type": "code",
      "execution_count": 13,
      "id": "2a0c0932-1e8e-41df-a829-44faf3ce427f",
      "metadata": {
        "id": "2a0c0932-1e8e-41df-a829-44faf3ce427f"
      },
      "outputs": [],
      "source": [
        "def obter_quantidade():\n",
        "    while True:\n",
        "        quantidade = input(\"Digite a quantidade do ingrediente e sua unidade: \")\n",
        "        return quantidade"
      ]
    },
    {
      "cell_type": "code",
      "execution_count": 14,
      "id": "84817226-7699-4b24-8378-41cd6dd42d75",
      "metadata": {
        "id": "84817226-7699-4b24-8378-41cd6dd42d75"
      },
      "outputs": [],
      "source": [
        "def obter_custo():\n",
        "    while True:\n",
        "        custo = input(\"Digite o valor do ingrediente: \")\n",
        "        if custo and validar_numero(custo):\n",
        "            return float(custo)\n",
        "        else:\n",
        "            print(\"Custo inválido. Por favor, digite novamente.\")"
      ]
    },
    {
      "cell_type": "code",
      "execution_count": 15,
      "id": "e9755465-ff58-4e31-9df9-61fdb7735a8d",
      "metadata": {
        "id": "e9755465-ff58-4e31-9df9-61fdb7735a8d"
      },
      "outputs": [],
      "source": [
        "def validar_numero(valor):\n",
        "    try:\n",
        "        return float(valor) >= 0\n",
        "    except ValueError:\n",
        "        return False"
      ]
    },
    {
      "cell_type": "code",
      "execution_count": 16,
      "id": "54b14191-e8c4-4285-8ab8-0315bdf8fa36",
      "metadata": {
        "id": "54b14191-e8c4-4285-8ab8-0315bdf8fa36"
      },
      "outputs": [],
      "source": [
        "def obter_instrucao():\n",
        "    return input(\"Digite a instrução de preparo da receita: \").capitalize()"
      ]
    },
    {
      "cell_type": "code",
      "execution_count": 17,
      "id": "9d6e1ee9-f291-4fd2-bd4c-572760ca0821",
      "metadata": {
        "id": "9d6e1ee9-f291-4fd2-bd4c-572760ca0821"
      },
      "outputs": [],
      "source": [
        "def criar_nova_receita(dados: list[dict]) -> bool:\n",
        "    nova_receita = {'nome': obter_nome(), 'ingredientes': []}\n",
        "\n",
        "    while True:\n",
        "        ingrediente = obter_ingrediente()\n",
        "        if ingrediente.lower() == 'fim':\n",
        "            break\n",
        "\n",
        "        quantidade = obter_quantidade()\n",
        "        custo = obter_custo()\n",
        "\n",
        "        nova_receita['ingredientes'].append({\n",
        "            'nome': ingrediente,\n",
        "            'quantidade': quantidade,\n",
        "            'custo': custo\n",
        "        })\n",
        "\n",
        "    nova_receita['instrucoes'] = obter_instrucao()\n",
        "\n",
        "    dados.append(nova_receita)\n",
        "    return True"
      ]
    },
    {
      "cell_type": "markdown",
      "id": "QAZ6Jl8c2YRL",
      "metadata": {
        "id": "QAZ6Jl8c2YRL"
      },
      "source": [
        "### 2.2.6 - Alterar Elementos\n"
      ]
    },
    {
      "cell_type": "code",
      "execution_count": 18,
      "id": "D25AJNk_2YRL",
      "metadata": {
        "id": "D25AJNk_2YRL"
      },
      "outputs": [],
      "source": [
        "def busca(data: list[dict], input_name: str, field = 'nome') -> list[dict]:\n",
        "  return [item for item in data if item[field].strip().title() == input_name.strip().title()]"
      ]
    },
    {
      "cell_type": "code",
      "execution_count": 19,
      "id": "CmfbS1uA2YRM",
      "metadata": {
        "id": "CmfbS1uA2YRM"
      },
      "outputs": [],
      "source": [
        "def executa_alteracao(opc, opc_funcao, dado: dict) -> None:\n",
        "    while True:\n",
        "        opcao = obter_opcoes(opc, 'Escolha o campo a ser alterado')\n",
        "\n",
        "        if opcao == 'F':\n",
        "            break\n",
        "        opc_funcao[opcao][1](dado)\n"
      ]
    },
    {
      "cell_type": "code",
      "execution_count": 20,
      "id": "Hb0t7JYC2YRM",
      "metadata": {
        "id": "Hb0t7JYC2YRM"
      },
      "outputs": [],
      "source": [
        "def atualizar_nome_ingrediente(ingredientes):\n",
        "    ingredientes['ingrediente'] = obter_ingrediente()\n",
        "\n",
        "def atualizar_quantidade(ingredientes):\n",
        "    ingredientes['quantidade'] = obter_quantidade()\n",
        "\n",
        "def atualizar_custo(ingredientes):\n",
        "    ingredientes['custo'] = obter_custo()\n"
      ]
    },
    {
      "cell_type": "code",
      "execution_count": 21,
      "id": "IFKdSCLr2YRN",
      "metadata": {
        "id": "IFKdSCLr2YRN"
      },
      "outputs": [],
      "source": [
        "def atualizar_nome(receita: dict):\n",
        "    receita['nome'] = obter_nome()\n",
        "\n",
        "def atualizar_instrucao(receita: dict):\n",
        "    receita['instrucoes'] = obter_instrucao()\n",
        "\n",
        "def atualizar_ingrediente(receita: dict) -> bool:\n",
        "    opc = {\n",
        "        'I': 'Ingrediente',\n",
        "        'Q': 'Quantidade',\n",
        "        'C': 'Custo',\n",
        "        'F': 'Finalizar'\n",
        "    }\n",
        "\n",
        "    opc_funcao = {\n",
        "        'I' : ('ingrediente', atualizar_nome_ingrediente),\n",
        "        'Q': ('quantidade', atualizar_quantidade),\n",
        "        'C': ('custo', atualizar_custo)\n",
        "    }\n",
        "    ingredientes = receita['ingredientes']\n",
        "    alterado = busca(ingredientes, obter_ingrediente(), 'ingrediente')\n",
        "\n",
        "    if len(alterado) == 0:\n",
        "        print('Não foi encontrado!')\n",
        "        return False\n",
        "\n",
        "    msg = f'Tem certeza que deseja alterar [{formata_ingredientes(alterado)}]'\n",
        "\n",
        "    alterado = alterado[0]\n",
        "\n",
        "    if obter_opcoes({'S': 'Sim', 'N': 'Não'}, msg) == 'S':\n",
        "        executa_alteracao(opc, opc_funcao, alterado)\n",
        "        return True\n",
        "    else:\n",
        "        return False"
      ]
    },
    {
      "cell_type": "code",
      "execution_count": 22,
      "id": "mImwkEAX2YRN",
      "metadata": {
        "id": "mImwkEAX2YRN"
      },
      "outputs": [],
      "source": [
        "def alterar_receita(receitas: list[dict]) -> bool:\n",
        "    alterado = busca(receitas, obter_nome(), 'nome')\n",
        "\n",
        "    if len(alterado) == 0:\n",
        "        print('Não foi encontrado!')\n",
        "        return False\n",
        "\n",
        "    alterado = alterado[0]\n",
        "\n",
        "    opc = {\n",
        "        'N': 'Nome',\n",
        "        'I': 'Ingredientes',\n",
        "        'P': 'Instruções de Preparo',\n",
        "        'F': 'Finalizar'\n",
        "    }\n",
        "\n",
        "    opc_funcao = {\n",
        "        'N' : ('nome', atualizar_nome),\n",
        "        'I': ('ingredientes', atualizar_ingrediente),\n",
        "        'P': ('instrucoes', atualizar_instrucao),\n",
        "    }\n",
        "\n",
        "    msg = f'Tem certeza que deseja alterar [{formata_receita(alterado)}]'\n",
        "\n",
        "    if obter_opcoes({'S': 'Sim', 'N': 'Não'}, msg) == 'S':\n",
        "        executa_alteracao(opc, opc_funcao, alterado)\n",
        "        return True\n",
        "    else:\n",
        "        return False"
      ]
    },
    {
      "cell_type": "markdown",
      "metadata": {},
      "source": [
        "### 2.2.7 Deletar"
      ]
    },
    {
      "cell_type": "code",
      "execution_count": 23,
      "metadata": {},
      "outputs": [],
      "source": [
        "def deletar_ingrediente(receitas: list[dict]) -> bool:\n",
        "    receita = busca(receitas, obter_nome(), 'nome')\n",
        "    ingredientes = receita[0]['ingredientes']\n",
        "    apagado = busca(ingredientes, obter_ingrediente(), 'ingrediente')\n",
        "    \n",
        "    if len(apagado) == 0:\n",
        "        print('Não foi encontrado!')\n",
        "        return False\n",
        "    \n",
        "    msg = f'Tem certeza que deseja excluir [{formata_ingredientes(apagado)}]'\n",
        "    \n",
        "    apagado = apagado[0]\n",
        "\n",
        "    if obter_opcoes({'S': 'Sim', 'N': 'Não'}, msg) == 'S':\n",
        "        ingredientes.remove(apagado)\n",
        "        return True\n",
        "    else:\n",
        "        return False"
      ]
    },
    {
      "cell_type": "code",
      "execution_count": 24,
      "metadata": {},
      "outputs": [],
      "source": [
        "def deletar_receita(receitas: list[dict]) -> bool:\n",
        "    apagado = busca(receitas, obter_nome(), 'nome')\n",
        "    \n",
        "    if len(apagado) == 0:\n",
        "        print('Não foi encontrado!')\n",
        "        return False\n",
        "    \n",
        "    apagado = apagado[0]\n",
        "    \n",
        "    msg = f'Tem certeza que deseja excluir [{formata_receita(apagado)}]'\n",
        "    \n",
        "    if obter_opcoes({'S': 'Sim', 'N': 'Não'}, msg) == 'S':\n",
        "        receitas.remove(apagado)\n",
        "        return True\n",
        "    else:\n",
        "        return False"
      ]
    },
    {
      "cell_type": "markdown",
      "id": "HvrABjWJ4E_9",
      "metadata": {
        "id": "HvrABjWJ4E_9"
      },
      "source": [
        "### 2.2.8 Calculando Custos"
      ]
    },
    {
      "cell_type": "code",
      "execution_count": 21,
      "metadata": {},
      "outputs": [],
      "source": [
        "def calcula_custo(receita):\n",
        "    custos_por_receita = []\n",
        "    for item in receita:       \n",
        "        custo = \"{:.2f}\".format(sum(ingrediente[\"custo\"] for ingrediente in item[\"ingredientes\"]))\n",
        "        nome = item[\"nome\"]\n",
        "        custos_por_receita.append([nome, custo])\n",
        "    return custos_por_receita"
      ]
    },
    {
      "cell_type": "code",
      "execution_count": 3,
      "metadata": {},
      "outputs": [],
      "source": [
        "def receita_mais_cara(custo):\n",
        "    return max(custo, key = lambda x: x[1])"
      ]
    },
    {
      "cell_type": "code",
      "execution_count": 27,
      "metadata": {},
      "outputs": [],
      "source": [
        "def receita_mais_barata(custo):\n",
        "    return min(custo, key = lambda x: x[1])"
      ]
    },
    {
      "cell_type": "markdown",
      "metadata": {},
      "source": [
        "### 2.2.7 Salvar Dados Estatístico em um CSV"
      ]
    },
    {
      "cell_type": "code",
      "execution_count": 28,
      "metadata": {},
      "outputs": [],
      "source": [
        "def salvar_dados_estatistico(dados) -> bool:\n",
        "    custo = calcula_custo(dados)\n",
        "    receita_mais_barata_ = receita_mais_barata(custo)\n",
        "    receita_mais_cara_ = receita_mais_barata(custo)\n",
        "    \n",
        "    tabela = [['Nome', 'Custo Total', 'Receita Mais Cara', 'Receita Mais Barata']]\n",
        "    tabela.append([custo[0][0], custo[0][1], receita_mais_cara_[0], receita_mais_barata_[0]])\n",
        "    for i in custo[1::]:\n",
        "        tabela.append(i)\n",
        "\n",
        "    # cria o arquivo CSV\n",
        "    arquivo = open('Dados Estatisticos.csv', 'w', encoding='utf-8-sig')\n",
        "\n",
        "    # definindo as regras do nosso CSV:\n",
        "    # ele será escrito no arquivo apontado pela variável 'arquivo'\n",
        "    # seus elementos serão delimitados (delimiter) pelo símbolo ';'\n",
        "    # suas linhas serão encerradas (lineterminator) por uma quebra de linha\n",
        "    escritor = csv.writer(arquivo, delimiter=';', lineterminator='\\n')\n",
        "\n",
        "    # escreve uma lista de listas em formato CSV:\n",
        "    escritor.writerows(tabela)\n",
        "\n",
        "    # fecha e salva o arquivo\n",
        "    arquivo.close()\n",
        "\n",
        "    return True"
      ]
    },
    {
      "cell_type": "markdown",
      "id": "d41fbe22-ffdb-442a-91cb-490d9ab20bb6",
      "metadata": {
        "id": "d41fbe22-ffdb-442a-91cb-490d9ab20bb6"
      },
      "source": [
        "# 3 - Code Start"
      ]
    },
    {
      "cell_type": "markdown",
      "id": "28808dfd-0c64-4d07-bc89-e8d5fcedccf1",
      "metadata": {
        "id": "28808dfd-0c64-4d07-bc89-e8d5fcedccf1"
      },
      "source": [
        "## 3.1 - Carregamento de Dados"
      ]
    },
    {
      "cell_type": "code",
      "execution_count": 13,
      "id": "d1519ab0-2e62-4016-8730-9f4dc2166f9b",
      "metadata": {
        "id": "d1519ab0-2e62-4016-8730-9f4dc2166f9b"
      },
      "outputs": [],
      "source": [
        "dados = carrega_dados()"
      ]
    },
    {
      "cell_type": "code",
      "execution_count": 16,
      "id": "dee91f30-1106-400e-abce-b4d1a1c79b02",
      "metadata": {
        "colab": {
          "base_uri": "https://localhost:8080/"
        },
        "id": "dee91f30-1106-400e-abce-b4d1a1c79b02",
        "outputId": "5c2d90bb-5633-4048-9276-99a3ab70af66"
      },
      "outputs": [
        {
          "data": {
            "text/plain": [
              "[{'nome': 'Lasanha',\n",
              "  'ingredientes': [{'ingrediente': 'Massa de Lasanha',\n",
              "    'quantidade': '4un',\n",
              "    'custo': 2.0},\n",
              "   {'ingrediente': 'molho de tomate', 'quantidade': '500ml', 'custo': 5.0},\n",
              "   {'ingrediente': 'queijo', 'quantidade': '200g', 'custo': 4.0},\n",
              "   {'ingrediente': 'manteiga', 'quantidade': '50g', 'custo': 1.0}],\n",
              "  'instrucoes': 'Cozinhe o macarrão, faça o molho de tomate, cozinhe a carne, monte as camadas e asse no forno.'},\n",
              " {'nome': 'Salada Caesar',\n",
              "  'ingredientes': [{'ingrediente': 'alface romana',\n",
              "    'quantidade': '1 cabeça',\n",
              "    'custo': 2.0},\n",
              "   {'ingrediente': 'croutons', 'quantidade': '1 xícara', 'custo': 1.5},\n",
              "   {'ingrediente': 'queijo parmesão', 'quantidade': '50g', 'custo': 5.0},\n",
              "   {'ingrediente': 'peito de frango grelhado',\n",
              "    'quantidade': '300g',\n",
              "    'custo': 6.0},\n",
              "   {'ingrediente': 'molho Caesar', 'quantidade': '150ml', 'custo': 2.5}],\n",
              "  'instrucoes': 'Misture os ingredientes, adicione o frango grelhado e regue com molho Caesar.'},\n",
              " {'nome': 'Sopa de Abóbora',\n",
              "  'ingredientes': [{'ingrediente': 'abóbora',\n",
              "    'quantidade': '1 kg',\n",
              "    'custo': 2.5},\n",
              "   {'ingrediente': 'cebola', 'quantidade': '1', 'custo': 0.5},\n",
              "   {'ingrediente': 'alho', 'quantidade': '2 dentes', 'custo': 0.3},\n",
              "   {'ingrediente': 'caldo de galinha', 'quantidade': '1 litro', 'custo': 1.5},\n",
              "   {'ingrediente': 'creme de leite', 'quantidade': '200ml', 'custo': 1.8}],\n",
              "  'instrucoes': 'Refogue a cebola e o alho, adicione a abóbora e o caldo de galinha, cozinhe até ficar macio, bata no liquidificador e adicione o creme de leite.'},\n",
              " {'nome': 'Lombo Natalino',\n",
              "  'ingredientes': [{'ingrediente': 'Lombo de Porco',\n",
              "    'quantidade': '1kg',\n",
              "    'custo': 20.0},\n",
              "   {'ingrediente': 'Mostarda Dijon', 'quantidade': '50g', 'custo': 5.0},\n",
              "   {'ingrediente': 'Mel', 'quantidade': '100ml', 'custo': 2.0},\n",
              "   {'ingrediente': 'Batata Aperitivo', 'quantidade': '500g', 'custo': 3.0},\n",
              "   {'ingrediente': 'Manteiga sem Sal', 'quantidade': '50g', 'custo': 2.0},\n",
              "   {'ingrediente': 'Shoyu', 'quantidade': '50ml', 'custo': 0.5}],\n",
              "  'instrucoes': 'Tempere o lombo no dia anterior com sal e pimenta, vinho branco, alho e alecrim. Sele numa frigideira quente, faça um molho com os demais ingredientes e despeje sobre o lombo. Asse a 200 graus por 40 min.'},\n",
              " {'nome': 'Bacalhau com Natas',\n",
              "  'ingredientes': [{'ingrediente': 'Bacalhau',\n",
              "    'quantidade': '500g',\n",
              "    'custo': 17.0},\n",
              "   {'ingrediente': 'Batatas', 'quantidade': '500g', 'custo': 2.5},\n",
              "   {'ingrediente': 'Cebola', 'quantidade': '250g', 'custo': 0.7},\n",
              "   {'ingrediente': 'Azeite de Oliva', 'quantidade': '100ml', 'custo': 9.2},\n",
              "   {'ingrediente': 'Leite', 'quantidade': '1l', 'custo': '4.30'},\n",
              "   {'ingrediente': 'Manteiga sem Sal', 'quantidade': '50g', 'custo': 2.0},\n",
              "   {'ingrediente': 'Farinha de Trigo', 'quantidade': '40g', 'custo': 0.2}],\n",
              "  'instrucoes': 'Cozinhe o bacalhau dessalgado no leite, depois escorra e use o leite para fazer um bechamel. Em seguida, frite as batatas em cubinhos, refogue a cebola em tirar e adicione o bacalhau. Monte na travessa e leve ao forno para gratinar'},\n",
              " {'nome': 'Gratin de Camarao com Mandioquinha',\n",
              "  'ingredientes': [{'ingrediente': 'Camarao G',\n",
              "    'quantidade': '200g',\n",
              "    'custo': 21.0},\n",
              "   {'ingrediente': 'Mandioquinha', 'quantidade': '500g', 'custo': 7.0},\n",
              "   {'ingrediente': 'Azeite', 'quantidade': '50ml', 'custo': 4.5},\n",
              "   {'ingrediente': 'Creme de Leite', 'quantidade': '200g', 'custo': 4.45},\n",
              "   {'ingrediente': 'Mussarela', 'quantidade': '100g', 'custo': 3.7},\n",
              "   {'ingrediente': 'Salsa', 'quantidade': '10g', 'custo': 0.5},\n",
              "   {'ingrediente': 'Parmesao', 'quantidade': '20g', 'custo': 2.4}],\n",
              "  'instrucoes': 'Cozinhe a mandioquinha e amasse até a consitencia de pure. Adicione o creme de leite. Salteie os camaroes com azeite, manteiga, alho e salsa. Monte o gratin: pure, mussarela, camaroes e parmesao.'},\n",
              " {'nome': 'Filetino ao Gorgonzola',\n",
              "  'ingredientes': [{'ingrediente': 'File Mignon',\n",
              "    'quantidade': '400g',\n",
              "    'custo': 19.96},\n",
              "   {'ingrediente': 'Gorgonzola', 'quantidade': '100g', 'custo': 7.2},\n",
              "   {'ingrediente': 'Azeite', 'quantidade': '20ml', 'custo': 0.46},\n",
              "   {'ingrediente': 'Bechamel', 'quantidade': '400ml', 'custo': 2.9},\n",
              "   {'ingrediente': 'Cebola', 'quantidade': '10g', 'custo': 0.03},\n",
              "   {'ingrediente': 'Manteiga', 'quantidade': '20g', 'custo': 0.88}],\n",
              "  'instrucoes': 'Selar o file com azeite sal e pimenta, em seguida adicionar a cebola processada e a manteiga. Acrescentar o gorgonzola esmigalhado e em seguida o molho bechamel'},\n",
              " {'nome': 'Filetino ao Funghi',\n",
              "  'ingredientes': [{'ingrediente': 'File Mignon',\n",
              "    'quantidade': '400g',\n",
              "    'custo': 19.96},\n",
              "   {'ingrediente': 'Azeite de Oliva', 'quantidade': '20ml', 'custo': 0.46},\n",
              "   {'ingrediente': 'Manteiga', 'quantidade': '20g', 'custo': 0.88},\n",
              "   {'ingrediente': 'Vinho Branco', 'quantidade': '50ml', 'custo': 1.75},\n",
              "   {'ingrediente': 'Molho Funghi', 'quantidade': '500ml', 'custo': 10.8},\n",
              "   {'ingrediente': 'Cebola', 'quantidade': '50g', 'custo': 0.15}],\n",
              "  'instrucoes': 'Selar o file, acrescentar cebola e manteiga. deglaçar com vinho branco e juntar o molho de funghi.'},\n",
              " {'nome': 'Canelone de Camarao com Alho-poró',\n",
              "  'ingredientes': [{'ingrediente': 'Recheio de Camarao',\n",
              "    'quantidade': '400g',\n",
              "    'custo': 13.6},\n",
              "   {'ingrediente': 'Massa de Canelone', 'quantidade': '8 un', 'custo': 0.8},\n",
              "   {'ingrediente': 'Molho Bechamel', 'quantidade': '160g', 'custo': 1.16},\n",
              "   {'ingrediente': 'Molho de tomate', 'quantidade': '200g', 'custo': 1.0},\n",
              "   {'ingrediente': 'Mussarela', 'quantidade': '50g', 'custo': 1.7}],\n",
              "  'instrucoes': 'Rechear as massas com o recheio de camarao. Montar: Molho de tomate, 8 canelones, molho bechamel e mussarela.'},\n",
              " {'nome': 'Canelone de Frango com Provolone',\n",
              "  'ingredientes': [{'ingrediente': 'Recheio de Frango e Provolone',\n",
              "    'quantidade': '400g',\n",
              "    'custo': 11.5},\n",
              "   {'ingrediente': 'Massa de Canelone', 'quantidade': '8 un', 'custo': 0.8},\n",
              "   {'ingrediente': 'Molho Bechamel', 'quantidade': '160g', 'custo': 1.16},\n",
              "   {'ingrediente': 'Molho de tomate', 'quantidade': '200g', 'custo': 1.0},\n",
              "   {'ingrediente': 'Mussarela', 'quantidade': '50g', 'custo': 1.7}],\n",
              "  'instrucoes': 'Rechear as massas com o recheio de frango. Montar: Molho de tomate, 8 canelones, molho bechamel e mussarela.'},\n",
              " {'nome': 'Rondelli de Ricota e Espinafre',\n",
              "  'ingredientes': [{'ingrediente': 'Recheio de Ricota e Espinafre',\n",
              "    'quantidade': '400g',\n",
              "    'custo': 9.9},\n",
              "   {'ingrediente': 'Massa de Rondelli', 'quantidade': '6un', 'custo': 4.2},\n",
              "   {'ingrediente': 'Molho Bechamel', 'quantidade': '160g', 'custo': 1.16},\n",
              "   {'ingrediente': 'Molho de tomate', 'quantidade': '200g', 'custo': 1.0},\n",
              "   {'ingrediente': 'Mussarela', 'quantidade': '50g', 'custo': 1.7}],\n",
              "  'instrucoes': 'Montagem: Molho de Tomate, 6 unidades de rondelli, molho bechamel e mussarela.'},\n",
              " {'nome': 'Rondelli de Presunto e Queijo',\n",
              "  'ingredientes': [{'ingrediente': 'Recheio de Presunto e Queijo',\n",
              "    'quantidade': '400g',\n",
              "    'custo': 8.1},\n",
              "   {'ingrediente': 'Massa de Rondelli', 'quantidade': '6un', 'custo': 4.2},\n",
              "   {'ingrediente': 'Molho Bechamel', 'quantidade': '160g', 'custo': 1.16},\n",
              "   {'ingrediente': 'Molho de tomate', 'quantidade': '200g', 'custo': 1.0},\n",
              "   {'ingrediente': 'Mussarela', 'quantidade': '50g', 'custo': 1.7}],\n",
              "  'instrucoes': 'Montagem: Molho de Tomate, 6 unidades de rondelli, molho bechamel e mussarela.'},\n",
              " {'nome': 'Rondelli de Ricota e Tomate Seco',\n",
              "  'ingredientes': [{'ingrediente': 'Recheio de Ricota e Tomate Seco',\n",
              "    'quantidade': '400g',\n",
              "    'custo': 11.22},\n",
              "   {'ingrediente': 'Massa de Rondelli Verde',\n",
              "    'quantidade': '6un',\n",
              "    'custo': 6.0},\n",
              "   {'ingrediente': 'Molho de parmesão', 'quantidade': '360g', 'custo': 6.92},\n",
              "   {'ingrediente': 'Mussarela', 'quantidade': '50g', 'custo': 1.7}],\n",
              "  'instrucoes': 'Montagem: Molho de Parmesao, 6 unidades de rondelli, molho parmesao novamente e mussarela.'},\n",
              " {'nome': 'Lasanha 4 Queijos',\n",
              "  'ingredientes': [{'ingrediente': 'Massa de Lasanha',\n",
              "    'quantidade': '4un',\n",
              "    'custo': 0.8},\n",
              "   {'ingrediente': 'Molho 3 queijos', 'quantidade': '600g', 'custo': 17.06},\n",
              "   {'ingrediente': 'Mussarela', 'quantidade': '160g', 'custo': 5.44}],\n",
              "  'instrucoes': 'Montagem: Intercalar massa, molho e queijo mussarela.'},\n",
              " {'nome': 'Nhoque a Bolonhesa',\n",
              "  'ingredientes': [{'ingrediente': 'Nhoque',\n",
              "    'quantidade': '450g',\n",
              "    'custo': 7.24},\n",
              "   {'ingrediente': 'Molho Bolonhesa', 'quantidade': '300g', 'custo': 6.0},\n",
              "   {'ingrediente': 'Parmesao', 'quantidade': '25g', 'custo': 3.0}],\n",
              "  'instrucoes': 'Montagem: Intercalar nhoque, molho e queijo parmesao.'},\n",
              " {'nome': 'Nhoque aos 4 Queijos',\n",
              "  'ingredientes': [{'ingrediente': 'Nhoque',\n",
              "    'quantidade': '450g',\n",
              "    'custo': 7.24},\n",
              "   {'ingrediente': 'Molho 3 queijos', 'quantidade': '300g', 'custo': 8.53},\n",
              "   {'ingrediente': 'Mussarela', 'quantidade': '25g', 'custo': 1.7}],\n",
              "  'instrucoes': 'Montagem: Intercalar nhoque, molho e queijo mussarela.'},\n",
              " {'nome': 'Nhoque ao Funghi',\n",
              "  'ingredientes': [{'ingrediente': 'Nhoque',\n",
              "    'quantidade': '450g',\n",
              "    'custo': 7.24},\n",
              "   {'ingrediente': 'Molho Funghi', 'quantidade': '300g', 'custo': 7.1},\n",
              "   {'ingrediente': 'Parmesao', 'quantidade': '25g', 'custo': 3.0}],\n",
              "  'instrucoes': 'Montagem: Intercalar nhoque, molho e queijo parmesao.'},\n",
              " {'nome': 'Nhoque Tomate e Pesto',\n",
              "  'ingredientes': [{'ingrediente': 'Nhoque',\n",
              "    'quantidade': '450g',\n",
              "    'custo': 7.24},\n",
              "   {'ingrediente': 'Molho Tomate', 'quantidade': '300g', 'custo': 3.0},\n",
              "   {'ingrediente': 'Molho Pesto', 'quantidade': '30g', 'custo': 3.0},\n",
              "   {'ingrediente': 'Parmesao', 'quantidade': '25g', 'custo': 3.0}],\n",
              "  'instrucoes': 'Montagem: Intercalar nhoque, molho e queijo parmesao.'},\n",
              " {'nome': 'Risoto de Funghi',\n",
              "  'ingredientes': [{'ingrediente': 'Arroz Arbóreo',\n",
              "    'quantidade': '200g',\n",
              "    'custo': 2.5},\n",
              "   {'ingrediente': 'Cogumelos Funghi Secos',\n",
              "    'quantidade': '30g',\n",
              "    'custo': 4.5},\n",
              "   {'ingrediente': 'Caldo de Legumes', 'quantidade': '500ml', 'custo': 1.5},\n",
              "   {'ingrediente': 'Cebola Picada', 'quantidade': '1 unidade', 'custo': 0.5},\n",
              "   {'ingrediente': 'Vinho Branco', 'quantidade': '100ml', 'custo': 3.0},\n",
              "   {'ingrediente': 'Queijo Parmesão Ralado',\n",
              "    'quantidade': '50g',\n",
              "    'custo': 2.0},\n",
              "   {'ingrediente': 'Manteiga', 'quantidade': '2tbsp', 'custo': 1.0}],\n",
              "  'instrucoes': 'Hidrate os cogumelos em água quente. Em uma panela, refogue a cebola na manteiga. Adicione o arroz e mexa por alguns minutos. Acrescente o vinho branco e mexa até evaporar. Adicione os cogumelos escorridos. Aos poucos, adicione o caldo de legumes, mexendo sempre. Continue até o arroz estar cozido. Finalize com queijo parmesão, sal e pimenta a gosto.'},\n",
              " {'nome': 'Salada de Quinoa com Abacate',\n",
              "  'ingredientes': [{'ingrediente': 'Quinoa',\n",
              "    'quantidade': '1xic',\n",
              "    'custo': 4.0},\n",
              "   {'ingrediente': 'Abacate', 'quantidade': '1un', 'custo': 2.5},\n",
              "   {'ingrediente': 'Tomate Cereja', 'quantidade': '150g', 'custo': 2.0},\n",
              "   {'ingrediente': 'Rúcula', 'quantidade': '1 maço', 'custo': 1.5},\n",
              "   {'ingrediente': 'Azeite de Oliva',\n",
              "    'quantidade': '2 colheres de sopa',\n",
              "    'custo': 1.0},\n",
              "   {'ingrediente': 'Limão', 'quantidade': '1 unidade', 'custo': 0.5}],\n",
              "  'instrucoes': 'Cozinhe a quinoa conforme as instruções da embalagem. Corte o abacate e o tomate cereja em pedaços. Em uma tigela, misture a quinoa, o abacate, o tomate e a rúcula. Tempere com azeite de oliva, suco de limão, sal e pimenta a gosto. Sirva gelado.'},\n",
              " {'nome': 'Frango ao Curry com Coco',\n",
              "  'ingredientes': [{'ingrediente': 'Peito de Frango',\n",
              "    'quantidade': '500g',\n",
              "    'custo': 6.0},\n",
              "   {'ingrediente': 'Leite de Coco', 'quantidade': '400ml', 'custo': 2.5},\n",
              "   {'ingrediente': 'Curry em Pó', 'quantidade': '2tsp', 'custo': 1.5},\n",
              "   {'ingrediente': 'Cebola Picada', 'quantidade': '1un', 'custo': 0.5},\n",
              "   {'ingrediente': 'Alho Picado', 'quantidade': '3 dentes', 'custo': 0.5},\n",
              "   {'ingrediente': 'Gengibre Ralado', 'quantidade': '1tsp', 'custo': 0.5},\n",
              "   {'ingrediente': 'Coentro Picado', 'quantidade': '2tbsp', 'custo': 1.0}],\n",
              "  'instrucoes': 'Em uma panela, refogue a cebola, o alho e o gengibre. Adicione o frango cortado em cubos e doure. Acrescente o curry em pó e mexa. Adicione o leite de coco e deixe cozinhar até o frango estar totalmente cozido. Tempere com sal e finalize com coentro. Sirva com arroz branco.'}]"
            ]
          },
          "execution_count": 16,
          "metadata": {},
          "output_type": "execute_result"
        }
      ],
      "source": [
        "dados"
      ]
    },
    {
      "cell_type": "markdown",
      "id": "45e48085-dc4e-450f-bd28-810f9db763c6",
      "metadata": {
        "id": "45e48085-dc4e-450f-bd28-810f9db763c6"
      },
      "source": [
        "## 3.2 - Visualizar os dados carregados"
      ]
    },
    {
      "cell_type": "code",
      "execution_count": 31,
      "id": "e3148ddd-c83c-4f59-a9eb-9d1211f78a41",
      "metadata": {
        "id": "e3148ddd-c83c-4f59-a9eb-9d1211f78a41"
      },
      "outputs": [],
      "source": [
        "resultado_formatado = formata_lista_receitas(dados)"
      ]
    },
    {
      "cell_type": "code",
      "execution_count": 32,
      "id": "020254f2-11c7-4bfe-8349-3e8a4cfd2178",
      "metadata": {
        "colab": {
          "base_uri": "https://localhost:8080/"
        },
        "id": "020254f2-11c7-4bfe-8349-3e8a4cfd2178",
        "outputId": "778c981e-2f4c-4273-ad36-1bd92bfd9b9e"
      },
      "outputs": [
        {
          "name": "stdout",
          "output_type": "stream",
          "text": [
            "Lasanha:\n",
            " Ingredientes:\n",
            "  ingrediente: Massa de Lasanha | quantidade: 4un | custo: 2.0\n",
            "  ingrediente: molho de tomate | quantidade: 500ml | custo: 5.0\n",
            "  ingrediente: queijo | quantidade: 200g | custo: 4.0\n",
            "  ingrediente: manteiga | quantidade: 50g | custo: 1.0\n",
            " Instruções: Cozinhe o macarrão, faça o molho de tomate, cozinhe a carne, monte as camadas e asse no forno.\n",
            "\n",
            "Salada Caesar:\n",
            " Ingredientes:\n",
            "  ingrediente: alface romana | quantidade: 1 cabeça | custo: 2.0\n",
            "  ingrediente: croutons | quantidade: 1 xícara | custo: 1.5\n",
            "  ingrediente: queijo parmesão | quantidade: 50g | custo: 5.0\n",
            "  ingrediente: peito de frango grelhado | quantidade: 300g | custo: 6.0\n",
            "  ingrediente: molho Caesar | quantidade: 150ml | custo: 2.5\n",
            " Instruções: Misture os ingredientes, adicione o frango grelhado e regue com molho Caesar.\n",
            "\n",
            "Sopa de Abóbora:\n",
            " Ingredientes:\n",
            "  ingrediente: abóbora | quantidade: 1 kg | custo: 2.5\n",
            "  ingrediente: cebola | quantidade: 1 | custo: 0.5\n",
            "  ingrediente: alho | quantidade: 2 dentes | custo: 0.3\n",
            "  ingrediente: caldo de galinha | quantidade: 1 litro | custo: 1.5\n",
            "  ingrediente: creme de leite | quantidade: 200ml | custo: 1.8\n",
            " Instruções: Refogue a cebola e o alho, adicione a abóbora e o caldo de galinha, cozinhe até ficar macio, bata no liquidificador e adicione o creme de leite.\n",
            "\n",
            "Lombo Natalino:\n",
            " Ingredientes:\n",
            "  ingrediente: Lombo de Porco | quantidade: 1kg | custo: 20.0\n",
            "  ingrediente: Mostarda Dijon | quantidade: 50g | custo: 5.0\n",
            "  ingrediente: Mel | quantidade: 100ml | custo: 2.0\n",
            "  ingrediente: Batata Aperitivo | quantidade: 500g | custo: 3.0\n",
            "  ingrediente: Manteiga sem Sal | quantidade: 50g | custo: 2.0\n",
            "  ingrediente: Shoyu | quantidade: 50ml | custo: 0.5\n",
            " Instruções: Tempere o lombo no dia anterior com sal e pimenta, vinho branco, alho e alecrim. Sele numa frigideira quente, faça um molho com os demais ingredientes e despeje sobre o lombo. Asse a 200 graus por 40 min.\n",
            "\n",
            "Bacalhau com Natas:\n",
            " Ingredientes:\n",
            "  ingrediente: Bacalhau | quantidade: 500g | custo: 17.0\n",
            "  ingrediente: Batatas | quantidade: 500g | custo: 2.5\n",
            "  ingrediente: Cebola | quantidade: 250g | custo: 0.7\n",
            "  ingrediente: Azeite de Oliva | quantidade: 100ml | custo: 9.2\n",
            "  ingrediente: Leite | quantidade: 1l | custo: 4.3\n",
            "  ingrediente: Manteiga sem Sal | quantidade: 50g | custo: 2.0\n",
            "  ingrediente: Farinha de Trigo | quantidade: 40g | custo: 0.2\n",
            " Instruções: Cozinhe o bacalhau dessalgado no leite, depois escorra e use o leite para fazer um bechamel. Em seguida, frite as batatas em cubinhos, refogue a cebola em tirar e adicione o bacalhau. Monte na travessa e leve ao forno para gratinar\n",
            "\n",
            "Gratin de Camarao com Mandioquinha:\n",
            " Ingredientes:\n",
            "  ingrediente: Camarao G | quantidade: 200g | custo: 21.0\n",
            "  ingrediente: Mandioquinha | quantidade: 500g | custo: 7.0\n",
            "  ingrediente: Azeite | quantidade: 50ml | custo: 4.5\n",
            "  ingrediente: Creme de Leite | quantidade: 200g | custo: 4.45\n",
            "  ingrediente: Mussarela | quantidade: 100g | custo: 3.7\n",
            "  ingrediente: Salsa | quantidade: 10g | custo: 0.5\n",
            "  ingrediente: Parmesao | quantidade: 20g | custo: 2.4\n",
            " Instruções: Cozinhe a mandioquinha e amasse até a consitencia de pure. Adicione o creme de leite. Salteie os camaroes com azeite, manteiga, alho e salsa. Monte o gratin: pure, mussarela, camaroes e parmesao.\n",
            "\n",
            "Filetino ao Gorgonzola:\n",
            " Ingredientes:\n",
            "  ingrediente: File Mignon | quantidade: 400g | custo: 19.96\n",
            "  ingrediente: Gorgonzola | quantidade: 100g | custo: 7.2\n",
            "  ingrediente: Azeite | quantidade: 20ml | custo: 0.46\n",
            "  ingrediente: Bechamel | quantidade: 400ml | custo: 2.9\n",
            "  ingrediente: Cebola | quantidade: 10g | custo: 0.03\n",
            "  ingrediente: Manteiga | quantidade: 20g | custo: 0.88\n",
            " Instruções: \n",
            "\n",
            "Filetino ao Funghi:\n",
            " Ingredientes:\n",
            "  ingrediente: File Mignon | quantidade: 400g | custo: 19.96\n",
            "  ingrediente: Azeite de Oliva | quantidade: 20ml | custo: 0.46\n",
            "  ingrediente: Manteiga | quantidade: 20g | custo: 0.88\n",
            "  ingrediente: Vinho Branco | quantidade: 50ml | custo: 1.75\n",
            "  ingrediente: Molho Funghi | quantidade: 500ml | custo: 10.8\n",
            "  ingrediente: Cebola | quantidade: 50g | custo: 0.15\n",
            " Instruções: Selar o file, acrescentar cebola e manteiga. deglaçar com vinho branco e juntar o molho de funghi.\n",
            "\n",
            "Canelone de Camarao com Alho-poró:\n",
            " Ingredientes:\n",
            "  ingrediente: Recheio de Camarao | quantidade: 400g | custo: 13.6\n",
            "  ingrediente: Massa de Canelone | quantidade: 8 un | custo: 0.8\n",
            "  ingrediente: Molho Bechamel | quantidade: 160g | custo: 1.16\n",
            "  ingrediente: Molho de tomate | quantidade: 200g | custo: 1.0\n",
            "  ingrediente: Mussarela | quantidade: 50g | custo: 1.7\n",
            " Instruções: Rechear as massas com o recheio de camarao. Montar: Molho de tomate, 8 canelones, molho bechamel e mussarela.\n",
            "\n",
            "Canelone de Frango com Provolone:\n",
            " Ingredientes:\n",
            "  ingrediente: Recheio de Frango e Provolone | quantidade: 400g | custo: 11.5\n",
            "  ingrediente: Massa de Canelone | quantidade: 8 un | custo: 0.8\n",
            "  ingrediente: Molho Bechamel | quantidade: 160g | custo: 1.16\n",
            "  ingrediente: Molho de tomate | quantidade: 200g | custo: 1.0\n",
            "  ingrediente: Mussarela | quantidade: 50g | custo: 1.7\n",
            " Instruções: Rechear as massas com o recheio de frango. Montar: Molho de tomate, 8 canelones, molho bechamel e mussarela.\n",
            "\n",
            "Rondelli de Ricota e Espinafre:\n",
            " Ingredientes:\n",
            "  ingrediente: Recheio de Ricota e Espinafre | quantidade: 400g | custo: 9.9\n",
            "  ingrediente: Massa de Rondelli | quantidade: 6un | custo: 4.2\n",
            "  ingrediente: Molho Bechamel | quantidade: 160g | custo: 1.16\n",
            "  ingrediente: Molho de tomate | quantidade: 200g | custo: 1.0\n",
            "  ingrediente: Mussarela | quantidade: 50g | custo: 1.7\n",
            " Instruções: Montagem: Molho de Tomate, 6 unidades de rondelli, molho bechamel e mussarela.\n",
            "\n",
            "Rondelli de Presunto e Queijo:\n",
            " Ingredientes:\n",
            "  ingrediente: Recheio de Presunto e Queijo | quantidade: 400g | custo: 8.1\n",
            "  ingrediente: Massa de Rondelli | quantidade: 6un | custo: 4.2\n",
            "  ingrediente: Molho Bechamel | quantidade: 160g | custo: 1.16\n",
            "  ingrediente: Molho de tomate | quantidade: 200g | custo: 1.0\n",
            "  ingrediente: Mussarela | quantidade: 50g | custo: 1.7\n",
            " Instruções: Montagem: Molho de Tomate, 6 unidades de rondelli, molho bechamel e mussarela.\n",
            "\n",
            "Rondelli de Ricota e Tomate Seco:\n",
            " Ingredientes:\n",
            "  ingrediente: Recheio de Ricota e Tomate Seco | quantidade: 400g | custo: 11.22\n",
            "  ingrediente: Massa de Rondelli Verde | quantidade: 6un | custo: 6.0\n",
            "  ingrediente: Molho de parmesão | quantidade: 360g | custo: 6.92\n",
            "  ingrediente: Mussarela | quantidade: 50g | custo: 1.7\n",
            " Instruções: Montagem: Molho de Parmesao, 6 unidades de rondelli, molho parmesao novamente e mussarela.\n",
            "\n",
            "Lasanha 4 Queijos:\n",
            " Ingredientes:\n",
            "  ingrediente: Massa de Lasanha | quantidade: 4un | custo: 0.8\n",
            "  ingrediente: Molho 3 queijos | quantidade: 600g | custo: 17.06\n",
            "  ingrediente: Mussarela | quantidade: 160g | custo: 5.44\n",
            " Instruções: Montagem: Intercalar massa, molho e queijo mussarela.\n",
            "\n",
            "Nhoque a Bolonhesa:\n",
            " Ingredientes:\n",
            "  ingrediente: Nhoque | quantidade: 450g | custo: 7.24\n",
            "  ingrediente: Molho Bolonhesa | quantidade: 300g | custo: 6.0\n",
            "  ingrediente: Parmesao | quantidade: 25g | custo: 3.0\n",
            " Instruções: Montagem: Intercalar nhoque, molho e queijo parmesao.\n",
            "\n",
            "Nhoque aos 4 Queijos:\n",
            " Ingredientes:\n",
            "  ingrediente: Nhoque | quantidade: 450g | custo: 7.24\n",
            "  ingrediente: Molho 3 queijos | quantidade: 300g | custo: 8.53\n",
            "  ingrediente: Mussarela | quantidade: 25g | custo: 1.7\n",
            " Instruções: Montagem: Intercalar nhoque, molho e queijo mussarela.\n",
            "\n",
            "Nhoque ao Funghi:\n",
            " Ingredientes:\n",
            "  ingrediente: Nhoque | quantidade: 450g | custo: 7.24\n",
            "  ingrediente: Molho Funghi | quantidade: 300g | custo: 7.1\n",
            "  ingrediente: Parmesao | quantidade: 25g | custo: 3.0\n",
            " Instruções: Montagem: Intercalar nhoque, molho e queijo parmesao.\n",
            "\n",
            "Nhoque Tomate e Pesto:\n",
            " Ingredientes:\n",
            "  ingrediente: Nhoque | quantidade: 450g | custo: 7.24\n",
            "  ingrediente: Molho Tomate | quantidade: 300g | custo: 3.0\n",
            "  ingrediente: Molho Pesto | quantidade: 30g | custo: 3.0\n",
            "  ingrediente: Parmesao | quantidade: 25g | custo: 3.0\n",
            " Instruções: Montagem: Intercalar nhoque, molho e queijo parmesao.\n",
            "\n",
            "Risoto de Funghi:\n",
            " Ingredientes:\n",
            "  ingrediente: Arroz Arbóreo | quantidade: 200g | custo: 2.5\n",
            "  ingrediente: Cogumelos Funghi Secos | quantidade: 30g | custo: 4.5\n",
            "  ingrediente: Caldo de Legumes | quantidade: 500ml | custo: 1.5\n",
            "  ingrediente: Cebola Picada | quantidade: 1 unidade | custo: 0.5\n",
            "  ingrediente: Vinho Branco | quantidade: 100ml | custo: 3.0\n",
            "  ingrediente: Queijo Parmesão Ralado | quantidade: 50g | custo: 2.0\n",
            "  ingrediente: Manteiga | quantidade: 2tbsp | custo: 1.0\n",
            " Instruções: Hidrate os cogumelos em água quente. Em uma panela, refogue a cebola na manteiga. Adicione o arroz e mexa por alguns minutos. Acrescente o vinho branco e mexa até evaporar. Adicione os cogumelos escorridos. Aos poucos, adicione o caldo de legumes, mexendo sempre. Continue até o arroz estar cozido. Finalize com queijo parmesão, sal e pimenta a gosto.\n",
            "\n",
            "Salada de Quinoa com Abacate:\n",
            " Ingredientes:\n",
            "  ingrediente: Quinoa | quantidade: 1xic | custo: 4.0\n",
            "  ingrediente: Abacate | quantidade: 1un | custo: 2.5\n",
            "  ingrediente: Tomate Cereja | quantidade: 150g | custo: 2.0\n",
            "  ingrediente: Rúcula | quantidade: 1 maço | custo: 1.5\n",
            "  ingrediente: Azeite de Oliva | quantidade: 2 colheres de sopa | custo: 1.0\n",
            "  ingrediente: Limão | quantidade: 1 unidade | custo: 0.5\n",
            " Instruções: Cozinhe a quinoa conforme as instruções da embalagem. Corte o abacate e o tomate cereja em pedaços. Em uma tigela, misture a quinoa, o abacate, o tomate e a rúcula. Tempere com azeite de oliva, suco de limão, sal e pimenta a gosto. Sirva gelado.\n",
            "\n",
            "Frango ao Curry com Coco:\n",
            " Ingredientes:\n",
            "  ingrediente: Peito de Frango | quantidade: 500g | custo: 6.0\n",
            "  ingrediente: Leite de Coco | quantidade: 400ml | custo: 2.5\n",
            "  ingrediente: Curry em Pó | quantidade: 2tsp | custo: 1.5\n",
            "  ingrediente: Cebola Picada | quantidade: 1un | custo: 0.5\n",
            "  ingrediente: Alho Picado | quantidade: 3 dentes | custo: 0.5\n",
            "  ingrediente: Gengibre Ralado | quantidade: 1tsp | custo: 0.5\n",
            "  ingrediente: Coentro Picado | quantidade: 2tbsp | custo: 1.0\n",
            " Instruções: Em uma panela, refogue a cebola, o alho e o gengibre. Adicione o frango cortado em cubos e doure. Acrescente o curry em pó e mexa. Adicione o leite de coco e deixe cozinhar até o frango estar totalmente cozido. Tempere com sal e finalize com coentro. Sirva com arroz branco.\n",
            "\n"
          ]
        }
      ],
      "source": [
        "print(resultado_formatado)"
      ]
    },
    {
      "cell_type": "markdown",
      "id": "fa864378",
      "metadata": {
        "id": "fa864378"
      },
      "source": [
        "## 3.3 - Leitura Individual"
      ]
    },
    {
      "cell_type": "code",
      "execution_count": 33,
      "id": "09363c50",
      "metadata": {
        "id": "09363c50"
      },
      "outputs": [],
      "source": [
        "x = verifica_escolha(dados, 'Salada Caesar')"
      ]
    },
    {
      "cell_type": "code",
      "execution_count": 34,
      "id": "d38db889",
      "metadata": {
        "id": "d38db889",
        "outputId": "8a47bae7-aca5-4b47-b152-45b2ff60b9a7"
      },
      "outputs": [
        {
          "data": {
            "text/plain": [
              "[{'nome': 'Salada Caesar',\n",
              "  'ingredientes': [{'ingrediente': 'alface romana',\n",
              "    'quantidade': '1 cabeça',\n",
              "    'custo': 2.0},\n",
              "   {'ingrediente': 'croutons', 'quantidade': '1 xícara', 'custo': 1.5},\n",
              "   {'ingrediente': 'queijo parmesão', 'quantidade': '50g', 'custo': 5.0},\n",
              "   {'ingrediente': 'peito de frango grelhado',\n",
              "    'quantidade': '300g',\n",
              "    'custo': 6.0},\n",
              "   {'ingrediente': 'molho Caesar', 'quantidade': '150ml', 'custo': 2.5}],\n",
              "  'instrucoes': 'Misture os ingredientes, adicione o frango grelhado e regue com molho Caesar.'}]"
            ]
          },
          "execution_count": 34,
          "metadata": {},
          "output_type": "execute_result"
        }
      ],
      "source": [
        "x"
      ]
    },
    {
      "cell_type": "markdown",
      "id": "4ddd7cc0-82fa-45f7-872e-0911c0cfe504",
      "metadata": {
        "id": "4ddd7cc0-82fa-45f7-872e-0911c0cfe504"
      },
      "source": [
        "## 3.4 - Adiciona Elemento"
      ]
    },
    {
      "cell_type": "code",
      "execution_count": 35,
      "id": "de298c16-569b-4506-8407-b67e662e5710",
      "metadata": {
        "id": "de298c16-569b-4506-8407-b67e662e5710"
      },
      "outputs": [],
      "source": [
        "#criar_nova_receita(dados)"
      ]
    },
    {
      "cell_type": "markdown",
      "id": "oFJtZeEi2YRe",
      "metadata": {
        "id": "oFJtZeEi2YRe"
      },
      "source": [
        "## 3.5 - Alterar Receita"
      ]
    },
    {
      "cell_type": "code",
      "execution_count": 36,
      "id": "ka1_zdIO2YRf",
      "metadata": {
        "id": "ka1_zdIO2YRf",
        "outputId": "412d2514-4357-4bd0-d883-743bc77f03e0"
      },
      "outputs": [
        {
          "data": {
            "text/plain": [
              "False"
            ]
          },
          "execution_count": 36,
          "metadata": {},
          "output_type": "execute_result"
        }
      ],
      "source": [
        "#alterar_receita(dados)"
      ]
    },
    {
      "cell_type": "code",
      "execution_count": 37,
      "id": "xAogu8cg2YRf",
      "metadata": {
        "id": "xAogu8cg2YRf",
        "outputId": "9e82de54-ba00-4253-f9e9-b85b532f0106"
      },
      "outputs": [
        {
          "name": "stdout",
          "output_type": "stream",
          "text": [
            "Lasanha:\n",
            " Ingredientes:\n",
            "  ingrediente: Massa de Lasanha | quantidade: 4un | custo: 2.0\n",
            "  ingrediente: molho de tomate | quantidade: 500ml | custo: 5.0\n",
            "  ingrediente: queijo | quantidade: 200g | custo: 4.0\n",
            "  ingrediente: manteiga | quantidade: 50g | custo: 1.0\n",
            " Instruções: Cozinhe o macarrão, faça o molho de tomate, cozinhe a carne, monte as camadas e asse no forno.\n",
            "\n",
            "Salada Caesar:\n",
            " Ingredientes:\n",
            "  ingrediente: alface romana | quantidade: 1 cabeça | custo: 2.0\n",
            "  ingrediente: croutons | quantidade: 1 xícara | custo: 1.5\n",
            "  ingrediente: queijo parmesão | quantidade: 50g | custo: 5.0\n",
            "  ingrediente: peito de frango grelhado | quantidade: 300g | custo: 6.0\n",
            "  ingrediente: molho Caesar | quantidade: 150ml | custo: 2.5\n",
            " Instruções: Misture os ingredientes, adicione o frango grelhado e regue com molho Caesar.\n",
            "\n",
            "Sopa de Abóbora:\n",
            " Ingredientes:\n",
            "  ingrediente: abóbora | quantidade: 1 kg | custo: 2.5\n",
            "  ingrediente: cebola | quantidade: 1 | custo: 0.5\n",
            "  ingrediente: alho | quantidade: 2 dentes | custo: 0.3\n",
            "  ingrediente: caldo de galinha | quantidade: 1 litro | custo: 1.5\n",
            "  ingrediente: creme de leite | quantidade: 200ml | custo: 1.8\n",
            " Instruções: Refogue a cebola e o alho, adicione a abóbora e o caldo de galinha, cozinhe até ficar macio, bata no liquidificador e adicione o creme de leite.\n",
            "\n",
            "Lombo Natalino:\n",
            " Ingredientes:\n",
            "  ingrediente: Lombo de Porco | quantidade: 1kg | custo: 20.0\n",
            "  ingrediente: Mostarda Dijon | quantidade: 50g | custo: 5.0\n",
            "  ingrediente: Mel | quantidade: 100ml | custo: 2.0\n",
            "  ingrediente: Batata Aperitivo | quantidade: 500g | custo: 3.0\n",
            "  ingrediente: Manteiga sem Sal | quantidade: 50g | custo: 2.0\n",
            "  ingrediente: Shoyu | quantidade: 50ml | custo: 0.5\n",
            " Instruções: Tempere o lombo no dia anterior com sal e pimenta, vinho branco, alho e alecrim. Sele numa frigideira quente, faça um molho com os demais ingredientes e despeje sobre o lombo. Asse a 200 graus por 40 min.\n",
            "\n",
            "Bacalhau com Natas:\n",
            " Ingredientes:\n",
            "  ingrediente: Bacalhau | quantidade: 500g | custo: 17.0\n",
            "  ingrediente: Batatas | quantidade: 500g | custo: 2.5\n",
            "  ingrediente: Cebola | quantidade: 250g | custo: 0.7\n",
            "  ingrediente: Azeite de Oliva | quantidade: 100ml | custo: 9.2\n",
            "  ingrediente: Leite | quantidade: 1l | custo: 4.3\n",
            "  ingrediente: Manteiga sem Sal | quantidade: 50g | custo: 2.0\n",
            "  ingrediente: Farinha de Trigo | quantidade: 40g | custo: 0.2\n",
            " Instruções: Cozinhe o bacalhau dessalgado no leite, depois escorra e use o leite para fazer um bechamel. Em seguida, frite as batatas em cubinhos, refogue a cebola em tirar e adicione o bacalhau. Monte na travessa e leve ao forno para gratinar\n",
            "\n",
            "Gratin de Camarao com Mandioquinha:\n",
            " Ingredientes:\n",
            "  ingrediente: Camarao G | quantidade: 200g | custo: 21.0\n",
            "  ingrediente: Mandioquinha | quantidade: 500g | custo: 7.0\n",
            "  ingrediente: Azeite | quantidade: 50ml | custo: 4.5\n",
            "  ingrediente: Creme de Leite | quantidade: 200g | custo: 4.45\n",
            "  ingrediente: Mussarela | quantidade: 100g | custo: 3.7\n",
            "  ingrediente: Salsa | quantidade: 10g | custo: 0.5\n",
            "  ingrediente: Parmesao | quantidade: 20g | custo: 2.4\n",
            " Instruções: Cozinhe a mandioquinha e amasse até a consitencia de pure. Adicione o creme de leite. Salteie os camaroes com azeite, manteiga, alho e salsa. Monte o gratin: pure, mussarela, camaroes e parmesao.\n",
            "\n",
            "Filetino ao Gorgonzola:\n",
            " Ingredientes:\n",
            "  ingrediente: File Mignon | quantidade: 400g | custo: 19.96\n",
            "  ingrediente: Gorgonzola | quantidade: 100g | custo: 7.2\n",
            "  ingrediente: Azeite | quantidade: 20ml | custo: 0.46\n",
            "  ingrediente: Bechamel | quantidade: 400ml | custo: 2.9\n",
            "  ingrediente: Cebola | quantidade: 10g | custo: 0.03\n",
            "  ingrediente: Manteiga | quantidade: 20g | custo: 0.88\n",
            " Instruções: \n",
            "\n",
            "Filetino ao Funghi:\n",
            " Ingredientes:\n",
            "  ingrediente: File Mignon | quantidade: 400g | custo: 19.96\n",
            "  ingrediente: Azeite de Oliva | quantidade: 20ml | custo: 0.46\n",
            "  ingrediente: Manteiga | quantidade: 20g | custo: 0.88\n",
            "  ingrediente: Vinho Branco | quantidade: 50ml | custo: 1.75\n",
            "  ingrediente: Molho Funghi | quantidade: 500ml | custo: 10.8\n",
            "  ingrediente: Cebola | quantidade: 50g | custo: 0.15\n",
            " Instruções: Selar o file, acrescentar cebola e manteiga. deglaçar com vinho branco e juntar o molho de funghi.\n",
            "\n",
            "Canelone de Camarao com Alho-poró:\n",
            " Ingredientes:\n",
            "  ingrediente: Recheio de Camarao | quantidade: 400g | custo: 13.6\n",
            "  ingrediente: Massa de Canelone | quantidade: 8 un | custo: 0.8\n",
            "  ingrediente: Molho Bechamel | quantidade: 160g | custo: 1.16\n",
            "  ingrediente: Molho de tomate | quantidade: 200g | custo: 1.0\n",
            "  ingrediente: Mussarela | quantidade: 50g | custo: 1.7\n",
            " Instruções: Rechear as massas com o recheio de camarao. Montar: Molho de tomate, 8 canelones, molho bechamel e mussarela.\n",
            "\n",
            "Canelone de Frango com Provolone:\n",
            " Ingredientes:\n",
            "  ingrediente: Recheio de Frango e Provolone | quantidade: 400g | custo: 11.5\n",
            "  ingrediente: Massa de Canelone | quantidade: 8 un | custo: 0.8\n",
            "  ingrediente: Molho Bechamel | quantidade: 160g | custo: 1.16\n",
            "  ingrediente: Molho de tomate | quantidade: 200g | custo: 1.0\n",
            "  ingrediente: Mussarela | quantidade: 50g | custo: 1.7\n",
            " Instruções: Rechear as massas com o recheio de frango. Montar: Molho de tomate, 8 canelones, molho bechamel e mussarela.\n",
            "\n",
            "Rondelli de Ricota e Espinafre:\n",
            " Ingredientes:\n",
            "  ingrediente: Recheio de Ricota e Espinafre | quantidade: 400g | custo: 9.9\n",
            "  ingrediente: Massa de Rondelli | quantidade: 6un | custo: 4.2\n",
            "  ingrediente: Molho Bechamel | quantidade: 160g | custo: 1.16\n",
            "  ingrediente: Molho de tomate | quantidade: 200g | custo: 1.0\n",
            "  ingrediente: Mussarela | quantidade: 50g | custo: 1.7\n",
            " Instruções: Montagem: Molho de Tomate, 6 unidades de rondelli, molho bechamel e mussarela.\n",
            "\n",
            "Rondelli de Presunto e Queijo:\n",
            " Ingredientes:\n",
            "  ingrediente: Recheio de Presunto e Queijo | quantidade: 400g | custo: 8.1\n",
            "  ingrediente: Massa de Rondelli | quantidade: 6un | custo: 4.2\n",
            "  ingrediente: Molho Bechamel | quantidade: 160g | custo: 1.16\n",
            "  ingrediente: Molho de tomate | quantidade: 200g | custo: 1.0\n",
            "  ingrediente: Mussarela | quantidade: 50g | custo: 1.7\n",
            " Instruções: Montagem: Molho de Tomate, 6 unidades de rondelli, molho bechamel e mussarela.\n",
            "\n",
            "Rondelli de Ricota e Tomate Seco:\n",
            " Ingredientes:\n",
            "  ingrediente: Recheio de Ricota e Tomate Seco | quantidade: 400g | custo: 11.22\n",
            "  ingrediente: Massa de Rondelli Verde | quantidade: 6un | custo: 6.0\n",
            "  ingrediente: Molho de parmesão | quantidade: 360g | custo: 6.92\n",
            "  ingrediente: Mussarela | quantidade: 50g | custo: 1.7\n",
            " Instruções: Montagem: Molho de Parmesao, 6 unidades de rondelli, molho parmesao novamente e mussarela.\n",
            "\n",
            "Lasanha 4 Queijos:\n",
            " Ingredientes:\n",
            "  ingrediente: Massa de Lasanha | quantidade: 4un | custo: 0.8\n",
            "  ingrediente: Molho 3 queijos | quantidade: 600g | custo: 17.06\n",
            "  ingrediente: Mussarela | quantidade: 160g | custo: 5.44\n",
            " Instruções: Montagem: Intercalar massa, molho e queijo mussarela.\n",
            "\n",
            "Nhoque a Bolonhesa:\n",
            " Ingredientes:\n",
            "  ingrediente: Nhoque | quantidade: 450g | custo: 7.24\n",
            "  ingrediente: Molho Bolonhesa | quantidade: 300g | custo: 6.0\n",
            "  ingrediente: Parmesao | quantidade: 25g | custo: 3.0\n",
            " Instruções: Montagem: Intercalar nhoque, molho e queijo parmesao.\n",
            "\n",
            "Nhoque aos 4 Queijos:\n",
            " Ingredientes:\n",
            "  ingrediente: Nhoque | quantidade: 450g | custo: 7.24\n",
            "  ingrediente: Molho 3 queijos | quantidade: 300g | custo: 8.53\n",
            "  ingrediente: Mussarela | quantidade: 25g | custo: 1.7\n",
            " Instruções: Montagem: Intercalar nhoque, molho e queijo mussarela.\n",
            "\n",
            "Nhoque ao Funghi:\n",
            " Ingredientes:\n",
            "  ingrediente: Nhoque | quantidade: 450g | custo: 7.24\n",
            "  ingrediente: Molho Funghi | quantidade: 300g | custo: 7.1\n",
            "  ingrediente: Parmesao | quantidade: 25g | custo: 3.0\n",
            " Instruções: Montagem: Intercalar nhoque, molho e queijo parmesao.\n",
            "\n",
            "Nhoque Tomate e Pesto:\n",
            " Ingredientes:\n",
            "  ingrediente: Nhoque | quantidade: 450g | custo: 7.24\n",
            "  ingrediente: Molho Tomate | quantidade: 300g | custo: 3.0\n",
            "  ingrediente: Molho Pesto | quantidade: 30g | custo: 3.0\n",
            "  ingrediente: Parmesao | quantidade: 25g | custo: 3.0\n",
            " Instruções: Montagem: Intercalar nhoque, molho e queijo parmesao.\n",
            "\n",
            "Risoto de Funghi:\n",
            " Ingredientes:\n",
            "  ingrediente: Arroz Arbóreo | quantidade: 200g | custo: 2.5\n",
            "  ingrediente: Cogumelos Funghi Secos | quantidade: 30g | custo: 4.5\n",
            "  ingrediente: Caldo de Legumes | quantidade: 500ml | custo: 1.5\n",
            "  ingrediente: Cebola Picada | quantidade: 1 unidade | custo: 0.5\n",
            "  ingrediente: Vinho Branco | quantidade: 100ml | custo: 3.0\n",
            "  ingrediente: Queijo Parmesão Ralado | quantidade: 50g | custo: 2.0\n",
            "  ingrediente: Manteiga | quantidade: 2tbsp | custo: 1.0\n",
            " Instruções: Hidrate os cogumelos em água quente. Em uma panela, refogue a cebola na manteiga. Adicione o arroz e mexa por alguns minutos. Acrescente o vinho branco e mexa até evaporar. Adicione os cogumelos escorridos. Aos poucos, adicione o caldo de legumes, mexendo sempre. Continue até o arroz estar cozido. Finalize com queijo parmesão, sal e pimenta a gosto.\n",
            "\n",
            "Salada de Quinoa com Abacate:\n",
            " Ingredientes:\n",
            "  ingrediente: Quinoa | quantidade: 1xic | custo: 4.0\n",
            "  ingrediente: Abacate | quantidade: 1un | custo: 2.5\n",
            "  ingrediente: Tomate Cereja | quantidade: 150g | custo: 2.0\n",
            "  ingrediente: Rúcula | quantidade: 1 maço | custo: 1.5\n",
            "  ingrediente: Azeite de Oliva | quantidade: 2 colheres de sopa | custo: 1.0\n",
            "  ingrediente: Limão | quantidade: 1 unidade | custo: 0.5\n",
            " Instruções: Cozinhe a quinoa conforme as instruções da embalagem. Corte o abacate e o tomate cereja em pedaços. Em uma tigela, misture a quinoa, o abacate, o tomate e a rúcula. Tempere com azeite de oliva, suco de limão, sal e pimenta a gosto. Sirva gelado.\n",
            "\n",
            "Frango ao Curry com Coco:\n",
            " Ingredientes:\n",
            "  ingrediente: Peito de Frango | quantidade: 500g | custo: 6.0\n",
            "  ingrediente: Leite de Coco | quantidade: 400ml | custo: 2.5\n",
            "  ingrediente: Curry em Pó | quantidade: 2tsp | custo: 1.5\n",
            "  ingrediente: Cebola Picada | quantidade: 1un | custo: 0.5\n",
            "  ingrediente: Alho Picado | quantidade: 3 dentes | custo: 0.5\n",
            "  ingrediente: Gengibre Ralado | quantidade: 1tsp | custo: 0.5\n",
            "  ingrediente: Coentro Picado | quantidade: 2tbsp | custo: 1.0\n",
            " Instruções: Em uma panela, refogue a cebola, o alho e o gengibre. Adicione o frango cortado em cubos e doure. Acrescente o curry em pó e mexa. Adicione o leite de coco e deixe cozinhar até o frango estar totalmente cozido. Tempere com sal e finalize com coentro. Sirva com arroz branco.\n",
            "\n"
          ]
        }
      ],
      "source": [
        "print(formata_lista_receitas(dados))"
      ]
    },
    {
      "cell_type": "markdown",
      "metadata": {},
      "source": [
        "## 3.6 - Deletar Elemento"
      ]
    },
    {
      "cell_type": "code",
      "execution_count": 38,
      "metadata": {},
      "outputs": [],
      "source": [
        "#deletar_receita(dados)"
      ]
    },
    {
      "cell_type": "code",
      "execution_count": 39,
      "metadata": {},
      "outputs": [],
      "source": [
        "#deletar_ingrediente(dados)"
      ]
    },
    {
      "cell_type": "code",
      "execution_count": 40,
      "metadata": {},
      "outputs": [
        {
          "name": "stdout",
          "output_type": "stream",
          "text": [
            "Lasanha:\n",
            " Ingredientes:\n",
            "  ingrediente: Massa de Lasanha | quantidade: 4un | custo: 2.0\n",
            "  ingrediente: molho de tomate | quantidade: 500ml | custo: 5.0\n",
            "  ingrediente: queijo | quantidade: 200g | custo: 4.0\n",
            "  ingrediente: manteiga | quantidade: 50g | custo: 1.0\n",
            " Instruções: Cozinhe o macarrão, faça o molho de tomate, cozinhe a carne, monte as camadas e asse no forno.\n",
            "\n",
            "Salada Caesar:\n",
            " Ingredientes:\n",
            "  ingrediente: alface romana | quantidade: 1 cabeça | custo: 2.0\n",
            "  ingrediente: croutons | quantidade: 1 xícara | custo: 1.5\n",
            "  ingrediente: queijo parmesão | quantidade: 50g | custo: 5.0\n",
            "  ingrediente: peito de frango grelhado | quantidade: 300g | custo: 6.0\n",
            "  ingrediente: molho Caesar | quantidade: 150ml | custo: 2.5\n",
            " Instruções: Misture os ingredientes, adicione o frango grelhado e regue com molho Caesar.\n",
            "\n",
            "Sopa de Abóbora:\n",
            " Ingredientes:\n",
            "  ingrediente: abóbora | quantidade: 1 kg | custo: 2.5\n",
            "  ingrediente: cebola | quantidade: 1 | custo: 0.5\n",
            "  ingrediente: alho | quantidade: 2 dentes | custo: 0.3\n",
            "  ingrediente: caldo de galinha | quantidade: 1 litro | custo: 1.5\n",
            "  ingrediente: creme de leite | quantidade: 200ml | custo: 1.8\n",
            " Instruções: Refogue a cebola e o alho, adicione a abóbora e o caldo de galinha, cozinhe até ficar macio, bata no liquidificador e adicione o creme de leite.\n",
            "\n",
            "Lombo Natalino:\n",
            " Ingredientes:\n",
            "  ingrediente: Lombo de Porco | quantidade: 1kg | custo: 20.0\n",
            "  ingrediente: Mostarda Dijon | quantidade: 50g | custo: 5.0\n",
            "  ingrediente: Mel | quantidade: 100ml | custo: 2.0\n",
            "  ingrediente: Batata Aperitivo | quantidade: 500g | custo: 3.0\n",
            "  ingrediente: Manteiga sem Sal | quantidade: 50g | custo: 2.0\n",
            "  ingrediente: Shoyu | quantidade: 50ml | custo: 0.5\n",
            " Instruções: Tempere o lombo no dia anterior com sal e pimenta, vinho branco, alho e alecrim. Sele numa frigideira quente, faça um molho com os demais ingredientes e despeje sobre o lombo. Asse a 200 graus por 40 min.\n",
            "\n",
            "Bacalhau com Natas:\n",
            " Ingredientes:\n",
            "  ingrediente: Bacalhau | quantidade: 500g | custo: 17.0\n",
            "  ingrediente: Batatas | quantidade: 500g | custo: 2.5\n",
            "  ingrediente: Cebola | quantidade: 250g | custo: 0.7\n",
            "  ingrediente: Azeite de Oliva | quantidade: 100ml | custo: 9.2\n",
            "  ingrediente: Leite | quantidade: 1l | custo: 4.3\n",
            "  ingrediente: Manteiga sem Sal | quantidade: 50g | custo: 2.0\n",
            "  ingrediente: Farinha de Trigo | quantidade: 40g | custo: 0.2\n",
            " Instruções: Cozinhe o bacalhau dessalgado no leite, depois escorra e use o leite para fazer um bechamel. Em seguida, frite as batatas em cubinhos, refogue a cebola em tirar e adicione o bacalhau. Monte na travessa e leve ao forno para gratinar\n",
            "\n",
            "Gratin de Camarao com Mandioquinha:\n",
            " Ingredientes:\n",
            "  ingrediente: Camarao G | quantidade: 200g | custo: 21.0\n",
            "  ingrediente: Mandioquinha | quantidade: 500g | custo: 7.0\n",
            "  ingrediente: Azeite | quantidade: 50ml | custo: 4.5\n",
            "  ingrediente: Creme de Leite | quantidade: 200g | custo: 4.45\n",
            "  ingrediente: Mussarela | quantidade: 100g | custo: 3.7\n",
            "  ingrediente: Salsa | quantidade: 10g | custo: 0.5\n",
            "  ingrediente: Parmesao | quantidade: 20g | custo: 2.4\n",
            " Instruções: Cozinhe a mandioquinha e amasse até a consitencia de pure. Adicione o creme de leite. Salteie os camaroes com azeite, manteiga, alho e salsa. Monte o gratin: pure, mussarela, camaroes e parmesao.\n",
            "\n",
            "Filetino ao Gorgonzola:\n",
            " Ingredientes:\n",
            "  ingrediente: File Mignon | quantidade: 400g | custo: 19.96\n",
            "  ingrediente: Gorgonzola | quantidade: 100g | custo: 7.2\n",
            "  ingrediente: Azeite | quantidade: 20ml | custo: 0.46\n",
            "  ingrediente: Bechamel | quantidade: 400ml | custo: 2.9\n",
            "  ingrediente: Cebola | quantidade: 10g | custo: 0.03\n",
            "  ingrediente: Manteiga | quantidade: 20g | custo: 0.88\n",
            " Instruções: \n",
            "\n",
            "Filetino ao Funghi:\n",
            " Ingredientes:\n",
            "  ingrediente: File Mignon | quantidade: 400g | custo: 19.96\n",
            "  ingrediente: Azeite de Oliva | quantidade: 20ml | custo: 0.46\n",
            "  ingrediente: Manteiga | quantidade: 20g | custo: 0.88\n",
            "  ingrediente: Vinho Branco | quantidade: 50ml | custo: 1.75\n",
            "  ingrediente: Molho Funghi | quantidade: 500ml | custo: 10.8\n",
            "  ingrediente: Cebola | quantidade: 50g | custo: 0.15\n",
            " Instruções: Selar o file, acrescentar cebola e manteiga. deglaçar com vinho branco e juntar o molho de funghi.\n",
            "\n",
            "Canelone de Camarao com Alho-poró:\n",
            " Ingredientes:\n",
            "  ingrediente: Recheio de Camarao | quantidade: 400g | custo: 13.6\n",
            "  ingrediente: Massa de Canelone | quantidade: 8 un | custo: 0.8\n",
            "  ingrediente: Molho Bechamel | quantidade: 160g | custo: 1.16\n",
            "  ingrediente: Molho de tomate | quantidade: 200g | custo: 1.0\n",
            "  ingrediente: Mussarela | quantidade: 50g | custo: 1.7\n",
            " Instruções: Rechear as massas com o recheio de camarao. Montar: Molho de tomate, 8 canelones, molho bechamel e mussarela.\n",
            "\n",
            "Canelone de Frango com Provolone:\n",
            " Ingredientes:\n",
            "  ingrediente: Recheio de Frango e Provolone | quantidade: 400g | custo: 11.5\n",
            "  ingrediente: Massa de Canelone | quantidade: 8 un | custo: 0.8\n",
            "  ingrediente: Molho Bechamel | quantidade: 160g | custo: 1.16\n",
            "  ingrediente: Molho de tomate | quantidade: 200g | custo: 1.0\n",
            "  ingrediente: Mussarela | quantidade: 50g | custo: 1.7\n",
            " Instruções: Rechear as massas com o recheio de frango. Montar: Molho de tomate, 8 canelones, molho bechamel e mussarela.\n",
            "\n",
            "Rondelli de Ricota e Espinafre:\n",
            " Ingredientes:\n",
            "  ingrediente: Recheio de Ricota e Espinafre | quantidade: 400g | custo: 9.9\n",
            "  ingrediente: Massa de Rondelli | quantidade: 6un | custo: 4.2\n",
            "  ingrediente: Molho Bechamel | quantidade: 160g | custo: 1.16\n",
            "  ingrediente: Molho de tomate | quantidade: 200g | custo: 1.0\n",
            "  ingrediente: Mussarela | quantidade: 50g | custo: 1.7\n",
            " Instruções: Montagem: Molho de Tomate, 6 unidades de rondelli, molho bechamel e mussarela.\n",
            "\n",
            "Rondelli de Presunto e Queijo:\n",
            " Ingredientes:\n",
            "  ingrediente: Recheio de Presunto e Queijo | quantidade: 400g | custo: 8.1\n",
            "  ingrediente: Massa de Rondelli | quantidade: 6un | custo: 4.2\n",
            "  ingrediente: Molho Bechamel | quantidade: 160g | custo: 1.16\n",
            "  ingrediente: Molho de tomate | quantidade: 200g | custo: 1.0\n",
            "  ingrediente: Mussarela | quantidade: 50g | custo: 1.7\n",
            " Instruções: Montagem: Molho de Tomate, 6 unidades de rondelli, molho bechamel e mussarela.\n",
            "\n",
            "Rondelli de Ricota e Tomate Seco:\n",
            " Ingredientes:\n",
            "  ingrediente: Recheio de Ricota e Tomate Seco | quantidade: 400g | custo: 11.22\n",
            "  ingrediente: Massa de Rondelli Verde | quantidade: 6un | custo: 6.0\n",
            "  ingrediente: Molho de parmesão | quantidade: 360g | custo: 6.92\n",
            "  ingrediente: Mussarela | quantidade: 50g | custo: 1.7\n",
            " Instruções: Montagem: Molho de Parmesao, 6 unidades de rondelli, molho parmesao novamente e mussarela.\n",
            "\n",
            "Lasanha 4 Queijos:\n",
            " Ingredientes:\n",
            "  ingrediente: Massa de Lasanha | quantidade: 4un | custo: 0.8\n",
            "  ingrediente: Molho 3 queijos | quantidade: 600g | custo: 17.06\n",
            "  ingrediente: Mussarela | quantidade: 160g | custo: 5.44\n",
            " Instruções: Montagem: Intercalar massa, molho e queijo mussarela.\n",
            "\n",
            "Nhoque a Bolonhesa:\n",
            " Ingredientes:\n",
            "  ingrediente: Nhoque | quantidade: 450g | custo: 7.24\n",
            "  ingrediente: Molho Bolonhesa | quantidade: 300g | custo: 6.0\n",
            "  ingrediente: Parmesao | quantidade: 25g | custo: 3.0\n",
            " Instruções: Montagem: Intercalar nhoque, molho e queijo parmesao.\n",
            "\n",
            "Nhoque aos 4 Queijos:\n",
            " Ingredientes:\n",
            "  ingrediente: Nhoque | quantidade: 450g | custo: 7.24\n",
            "  ingrediente: Molho 3 queijos | quantidade: 300g | custo: 8.53\n",
            "  ingrediente: Mussarela | quantidade: 25g | custo: 1.7\n",
            " Instruções: Montagem: Intercalar nhoque, molho e queijo mussarela.\n",
            "\n",
            "Nhoque ao Funghi:\n",
            " Ingredientes:\n",
            "  ingrediente: Nhoque | quantidade: 450g | custo: 7.24\n",
            "  ingrediente: Molho Funghi | quantidade: 300g | custo: 7.1\n",
            "  ingrediente: Parmesao | quantidade: 25g | custo: 3.0\n",
            " Instruções: Montagem: Intercalar nhoque, molho e queijo parmesao.\n",
            "\n",
            "Nhoque Tomate e Pesto:\n",
            " Ingredientes:\n",
            "  ingrediente: Nhoque | quantidade: 450g | custo: 7.24\n",
            "  ingrediente: Molho Tomate | quantidade: 300g | custo: 3.0\n",
            "  ingrediente: Molho Pesto | quantidade: 30g | custo: 3.0\n",
            "  ingrediente: Parmesao | quantidade: 25g | custo: 3.0\n",
            " Instruções: Montagem: Intercalar nhoque, molho e queijo parmesao.\n",
            "\n",
            "Risoto de Funghi:\n",
            " Ingredientes:\n",
            "  ingrediente: Arroz Arbóreo | quantidade: 200g | custo: 2.5\n",
            "  ingrediente: Cogumelos Funghi Secos | quantidade: 30g | custo: 4.5\n",
            "  ingrediente: Caldo de Legumes | quantidade: 500ml | custo: 1.5\n",
            "  ingrediente: Cebola Picada | quantidade: 1 unidade | custo: 0.5\n",
            "  ingrediente: Vinho Branco | quantidade: 100ml | custo: 3.0\n",
            "  ingrediente: Queijo Parmesão Ralado | quantidade: 50g | custo: 2.0\n",
            "  ingrediente: Manteiga | quantidade: 2tbsp | custo: 1.0\n",
            " Instruções: Hidrate os cogumelos em água quente. Em uma panela, refogue a cebola na manteiga. Adicione o arroz e mexa por alguns minutos. Acrescente o vinho branco e mexa até evaporar. Adicione os cogumelos escorridos. Aos poucos, adicione o caldo de legumes, mexendo sempre. Continue até o arroz estar cozido. Finalize com queijo parmesão, sal e pimenta a gosto.\n",
            "\n",
            "Salada de Quinoa com Abacate:\n",
            " Ingredientes:\n",
            "  ingrediente: Quinoa | quantidade: 1xic | custo: 4.0\n",
            "  ingrediente: Abacate | quantidade: 1un | custo: 2.5\n",
            "  ingrediente: Tomate Cereja | quantidade: 150g | custo: 2.0\n",
            "  ingrediente: Rúcula | quantidade: 1 maço | custo: 1.5\n",
            "  ingrediente: Azeite de Oliva | quantidade: 2 colheres de sopa | custo: 1.0\n",
            "  ingrediente: Limão | quantidade: 1 unidade | custo: 0.5\n",
            " Instruções: Cozinhe a quinoa conforme as instruções da embalagem. Corte o abacate e o tomate cereja em pedaços. Em uma tigela, misture a quinoa, o abacate, o tomate e a rúcula. Tempere com azeite de oliva, suco de limão, sal e pimenta a gosto. Sirva gelado.\n",
            "\n",
            "Frango ao Curry com Coco:\n",
            " Ingredientes:\n",
            "  ingrediente: Peito de Frango | quantidade: 500g | custo: 6.0\n",
            "  ingrediente: Leite de Coco | quantidade: 400ml | custo: 2.5\n",
            "  ingrediente: Curry em Pó | quantidade: 2tsp | custo: 1.5\n",
            "  ingrediente: Cebola Picada | quantidade: 1un | custo: 0.5\n",
            "  ingrediente: Alho Picado | quantidade: 3 dentes | custo: 0.5\n",
            "  ingrediente: Gengibre Ralado | quantidade: 1tsp | custo: 0.5\n",
            "  ingrediente: Coentro Picado | quantidade: 2tbsp | custo: 1.0\n",
            " Instruções: Em uma panela, refogue a cebola, o alho e o gengibre. Adicione o frango cortado em cubos e doure. Acrescente o curry em pó e mexa. Adicione o leite de coco e deixe cozinhar até o frango estar totalmente cozido. Tempere com sal e finalize com coentro. Sirva com arroz branco.\n",
            "\n"
          ]
        }
      ],
      "source": [
        "print(formata_lista_receitas(dados))"
      ]
    },
    {
      "cell_type": "markdown",
      "metadata": {},
      "source": [
        "## 3.7 - Dados estatísticos"
      ]
    },
    {
      "cell_type": "code",
      "execution_count": 41,
      "metadata": {},
      "outputs": [
        {
          "data": {
            "text/plain": [
              "True"
            ]
          },
          "execution_count": 41,
          "metadata": {},
          "output_type": "execute_result"
        }
      ],
      "source": [
        "salvar_dados_estatistico(dados)"
      ]
    },
    {
      "cell_type": "markdown",
      "metadata": {},
      "source": [
        "# 4 - Menu Principal"
      ]
    },
    {
      "cell_type": "code",
      "execution_count": 42,
      "metadata": {},
      "outputs": [],
      "source": [
        "def sair(dados):\n",
        "    pass"
      ]
    },
    {
      "cell_type": "code",
      "execution_count": 43,
      "metadata": {},
      "outputs": [],
      "source": [
        "opc = {\n",
        "    'C': 'Criar nova receita', \n",
        "    'A': 'Alterar receita', \n",
        "    'DR': 'Deletar receita', \n",
        "    'DI': 'Deletar ingrediente', \n",
        "    'B': 'Buscar', \n",
        "    'ET': 'Exibir Todos',\n",
        "    'D': 'Obter Dados Estatísticos .csv',\n",
        "    'S': 'Sair'\n",
        "}\n",
        "\n",
        "opc_func = {\n",
        "    'C': criar_nova_receita,\n",
        "    'A': alterar_receita,\n",
        "    'DR': deletar_receita,\n",
        "    'DI': deletar_ingrediente,\n",
        "    'B': lambda dados: print(formata_lista_receitas(busca(dados, obter_nome()))),\n",
        "    'ET': lambda dados: print(formata_lista_receitas(dados)),\n",
        "    'D': salvar_dados_estatistico,\n",
        "    'S': sair\n",
        "}\n"
      ]
    },
    {
      "cell_type": "code",
      "execution_count": 46,
      "metadata": {},
      "outputs": [
        {
          "name": "stdout",
          "output_type": "stream",
          "text": [
            "Lasanha2:\n",
            " Ingredientes:\n",
            "  ingrediente: Massa de Lasanha | quantidade: 4un | custo: 2.0\n",
            "  ingrediente: molho de tomate | quantidade: 500ml | custo: 5.0\n",
            "  ingrediente: queijo | quantidade: 200g | custo: 4.0\n",
            "  ingrediente: manteiga | quantidade: 50g | custo: 1.0\n",
            " Instruções: Cozinhe o macarrão, faça o molho de tomate, cozinhe a carne, monte as camadas e asse no forno.\n",
            "\n"
          ]
        }
      ],
      "source": [
        "saida = False\n",
        "while not saida:\n",
        "    #clear_output(wait=True)\n",
        "    dados = carrega_dados()\n",
        "    opcao = obter_opcoes(opc, 'Escolha uma ação')\n",
        "    opc_func[opcao](dados)\n",
        "    \n",
        "    salvar_dados(dados)\n",
        "\n",
        "    if opcao == 'S':\n",
        "        saida = True\n"
      ]
    }
  ],
  "metadata": {
    "colab": {
      "provenance": []
    },
    "kernelspec": {
      "display_name": "Python 3 (ipykernel)",
      "language": "python",
      "name": "python3"
    },
    "language_info": {
      "codemirror_mode": {
        "name": "ipython",
        "version": 3
      },
      "file_extension": ".py",
      "mimetype": "text/x-python",
      "name": "python",
      "nbconvert_exporter": "python",
      "pygments_lexer": "ipython3",
      "version": "3.9.13"
    }
  },
  "nbformat": 4,
  "nbformat_minor": 5
}
