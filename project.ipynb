{
  "cells": [
    {
      "cell_type": "markdown",
      "id": "26a0ea25-f19b-4df9-bbc7-51325fa99ccd",
      "metadata": {
        "jp-MarkdownHeadingCollapsed": true,
        "id": "26a0ea25-f19b-4df9-bbc7-51325fa99ccd"
      },
      "source": [
        "# 1 - PROBLEM\n",
        "\n",
        "## Requisitos\n",
        "\n",
        "1. **Leitura de Dados:** Desenvolva um componente capaz de ler uma lista de objetos contidos em um arquivo JSON, representando informações sobre tema escolhidoes.\n",
        "\n",
        "2. **Mapeamento, Filtro e Redução:** Implemente funcionalidades para realizar mapeamento, filtragem e redução dos dados, proporcionando uma análise mais refinada das informações contidas no conjunto de dados.\n",
        "\n",
        "3. **Manipulação de Dados Individuais:** Permita a leitura individual, atualização e exclusão de do arquivossores, mantendo o arquivo JSON sempre atualizado.\n",
        "\n",
        "4. **Validações de Operações:** Integre validações utilizando blocos try-except e raise para garantir a robustez das operações, prevenindo erros e assegurando a consistência dos dados.\n",
        "\n",
        "5. **Obtenção de Estatísticas Simples:** Desenvolva uma função para extrair dados estatísticos simples, como média, máximo e mínimo, por exemplo, aum item X nos dados de exatas.\n",
        "\n",
        "6. **Identificação de Máximos/Mínimos com Detalhes:** Crie uma função que retorne uma lista de tuplas, contendXdo professor e o valor máximo (ou mínimo) de algum atributo numérico. Esta função deve ser configurável para fornecer estatísticas de máximo ou mínimo.\n",
        "\n",
        "7. **Exportação de Dados Estatísticos para CSV:** Implemente a capacidade de salvar os dados estatísticos obtidos em um arquivo CSV, permitindo uma análise posterior ou compartilhamento fácil dos resultados."
      ]
    },
    {
      "cell_type": "markdown",
      "id": "1e88ed0b-5775-423c-bb58-0348d7e558b1",
      "metadata": {
        "id": "1e88ed0b-5775-423c-bb58-0348d7e558b1"
      },
      "source": [
        "# 2 - IMPORTS"
      ]
    },
    {
      "cell_type": "markdown",
      "id": "2a3537e6-5b90-4699-b228-52bb09ce006c",
      "metadata": {
        "jp-MarkdownHeadingCollapsed": true,
        "id": "2a3537e6-5b90-4699-b228-52bb09ce006c"
      },
      "source": [
        "## 2.1 - Bibliotecas"
      ]
    },
    {
      "cell_type": "code",
      "execution_count": null,
      "id": "f867f964-c4d4-4934-80bb-1c5626279718",
      "metadata": {
        "id": "f867f964-c4d4-4934-80bb-1c5626279718"
      },
      "outputs": [],
      "source": [
        "import json\n",
        "from funcoes import obter_opcoes"
      ]
    },
    {
      "cell_type": "markdown",
      "id": "486216f6-bc4f-4349-9d7c-02cfbedf1fc4",
      "metadata": {
        "id": "486216f6-bc4f-4349-9d7c-02cfbedf1fc4"
      },
      "source": [
        "## 2.2 - Funções"
      ]
    },
    {
      "cell_type": "markdown",
      "id": "58a835a0-27da-4ab6-b336-c9d1398053a4",
      "metadata": {
        "jp-MarkdownHeadingCollapsed": true,
        "id": "58a835a0-27da-4ab6-b336-c9d1398053a4"
      },
      "source": [
        "### 2.2.1 - Leitura do Arquivo"
      ]
    },
    {
      "cell_type": "code",
      "execution_count": null,
      "id": "58bfbdae-660f-4656-8246-2b575bb83a9a",
      "metadata": {
        "id": "58bfbdae-660f-4656-8246-2b575bb83a9a"
      },
      "outputs": [],
      "source": [
        "def carrega_dados(path:str = 'data/receitas.json') -> list[dict]:\n",
        "    try:\n",
        "        with open(path, 'r', encoding='utf-8') as arquivo:\n",
        "            dados = arquivo.read()\n",
        "            return json.loads(dados)\n",
        "    except FileNotFoundError:\n",
        "        return []"
      ]
    },
    {
      "cell_type": "markdown",
      "id": "00a11b9d-a68b-4883-9a19-6e9d9c8f4908",
      "metadata": {
        "jp-MarkdownHeadingCollapsed": true,
        "id": "00a11b9d-a68b-4883-9a19-6e9d9c8f4908"
      },
      "source": [
        "### 2.2.2 - Salvamento do Arquivo"
      ]
    },
    {
      "cell_type": "code",
      "execution_count": null,
      "id": "b163b91f-3dfa-43ef-b061-13a176e0661d",
      "metadata": {
        "id": "b163b91f-3dfa-43ef-b061-13a176e0661d"
      },
      "outputs": [],
      "source": [
        "def salvar_dados(dados:list[dict], path:str = 'data/receitas.json') -> bool:\n",
        "    try:\n",
        "        with open(path, 'w', encoding='utf-8') as arquivo:\n",
        "            arquivo.write(json.dumps(dados))\n",
        "            return True\n",
        "    except Exception:\n",
        "        return False"
      ]
    },
    {
      "cell_type": "markdown",
      "id": "72eb0087-4a1a-4911-b0a2-dbe86b710e0c",
      "metadata": {
        "jp-MarkdownHeadingCollapsed": true,
        "id": "72eb0087-4a1a-4911-b0a2-dbe86b710e0c"
      },
      "source": [
        "### 2.2.3 - Visualização do Arquivo"
      ]
    },
    {
      "cell_type": "code",
      "execution_count": null,
      "id": "7b6497fc-991c-4371-b6a5-7810bd809d1d",
      "metadata": {
        "id": "7b6497fc-991c-4371-b6a5-7810bd809d1d"
      },
      "outputs": [],
      "source": [
        "def formata_dicionario(dados: dict) -> str:\n",
        "    return ' | '.join([f'{k}: {v}' for k, v in dados.items()])"
      ]
    },
    {
      "cell_type": "code",
      "execution_count": null,
      "id": "779a87a8-2774-474d-b90c-2309a2ca5633",
      "metadata": {
        "id": "779a87a8-2774-474d-b90c-2309a2ca5633"
      },
      "outputs": [],
      "source": [
        "def formata_ingredientes(ingredientes: list) -> str:\n",
        "    return '\\n  '.join(map(formata_dicionario, ingredientes))"
      ]
    },
    {
      "cell_type": "code",
      "execution_count": null,
      "id": "06875c72-c4b3-4bd7-8ac9-f6ccda5ce7ca",
      "metadata": {
        "id": "06875c72-c4b3-4bd7-8ac9-f6ccda5ce7ca"
      },
      "outputs": [],
      "source": [
        "def formata_receita(receita):\n",
        "    nome = receita['nome']\n",
        "    ingredientes = formata_ingredientes(receita['ingredientes'])\n",
        "    instrucoes = receita['instrucoes']\n",
        "    return f'{nome}:\\n Ingredientes:\\n  {ingredientes}\\n Instruções: {instrucoes}\\n'"
      ]
    },
    {
      "cell_type": "code",
      "execution_count": null,
      "id": "3bca0509-f9d5-412e-84e7-ad6654e6a943",
      "metadata": {
        "id": "3bca0509-f9d5-412e-84e7-ad6654e6a943"
      },
      "outputs": [],
      "source": [
        "def formata_lista_receitas(lista_receitas):\n",
        "    return '\\n'.join(map(formata_receita, lista_receitas))"
      ]
    },
    {
      "cell_type": "markdown",
      "id": "e402cbd1",
      "metadata": {
        "id": "e402cbd1"
      },
      "source": [
        "### 2.2.4 - Leitura do Arquivo * (está como leitura novamente, melhor outro título)"
      ]
    },
    {
      "cell_type": "code",
      "execution_count": null,
      "id": "4e1dbb74",
      "metadata": {
        "id": "4e1dbb74"
      },
      "outputs": [],
      "source": [
        "def retorna_dicionario(dado: dict, escolha=''):\n",
        "    return dado if escolha in dado['nome'] else None"
      ]
    },
    {
      "cell_type": "code",
      "execution_count": null,
      "id": "850d8333",
      "metadata": {
        "id": "850d8333"
      },
      "outputs": [],
      "source": [
        "def verifica_escolha(data, escolha=''):\n",
        "    resultado = []\n",
        "    for dado in data:\n",
        "        if retorna_dicionario(dado, escolha) is not None:\n",
        "            resultado.append(dado)\n",
        "    return resultado"
      ]
    },
    {
      "cell_type": "markdown",
      "id": "4f95365a-41bc-456d-88e5-cdab8e86183c",
      "metadata": {
        "id": "4f95365a-41bc-456d-88e5-cdab8e86183c"
      },
      "source": [
        "### 2.2.5 - Adiciona Elemento"
      ]
    },
    {
      "cell_type": "code",
      "execution_count": null,
      "id": "011ef1ae-1479-4346-a3ed-c76a401aed29",
      "metadata": {
        "id": "011ef1ae-1479-4346-a3ed-c76a401aed29"
      },
      "outputs": [],
      "source": [
        "def obter_nome():\n",
        "    while True:\n",
        "        nome = input(\"Digite o nome da receita: \").strip().title()\n",
        "        if nome:\n",
        "            return nome\n",
        "        else:\n",
        "            print(\"Nome inválido. Por favor, digite novamente.\")"
      ]
    },
    {
      "cell_type": "code",
      "execution_count": null,
      "id": "c6401c04-73a5-48fb-b61d-2f079a52ae6b",
      "metadata": {
        "id": "c6401c04-73a5-48fb-b61d-2f079a52ae6b"
      },
      "outputs": [],
      "source": [
        "def obter_ingrediente():\n",
        "    while True:\n",
        "        ingrediente = input(\"Digite o nome do ingrediente (ou 'fim' para encerrar): \").strip().title()\n",
        "        if ingrediente.lower() == 'fim' or ingrediente:\n",
        "            return ingrediente\n",
        "        else:\n",
        "            print(\"Ingrediente inválido. Por favor, digite novamente.\")"
      ]
    },
    {
      "cell_type": "code",
      "execution_count": null,
      "id": "2a0c0932-1e8e-41df-a829-44faf3ce427f",
      "metadata": {
        "id": "2a0c0932-1e8e-41df-a829-44faf3ce427f"
      },
      "outputs": [],
      "source": [
        "def obter_quantidade():\n",
        "    while True:\n",
        "        quantidade = input(\"Digite a quantidade do ingrediente e sua unidade: \")"
      ]
    },
    {
      "cell_type": "code",
      "execution_count": null,
      "id": "84817226-7699-4b24-8378-41cd6dd42d75",
      "metadata": {
        "id": "84817226-7699-4b24-8378-41cd6dd42d75"
      },
      "outputs": [],
      "source": [
        "def obter_custo():\n",
        "    while True:\n",
        "        custo = input(\"Digite o valor do ingrediente: \")\n",
        "        if custo and validar_numero(custo):\n",
        "            return float(custo)\n",
        "        else:\n",
        "            print(\"Custo inválido. Por favor, digite novamente.\")"
      ]
    },
    {
      "cell_type": "code",
      "execution_count": null,
      "id": "e9755465-ff58-4e31-9df9-61fdb7735a8d",
      "metadata": {
        "id": "e9755465-ff58-4e31-9df9-61fdb7735a8d"
      },
      "outputs": [],
      "source": [
        "def validar_numero(valor):\n",
        "    try:\n",
        "        return float(valor) >= 0\n",
        "    except ValueError:\n",
        "        return False"
      ]
    },
    {
      "cell_type": "code",
      "execution_count": null,
      "id": "54b14191-e8c4-4285-8ab8-0315bdf8fa36",
      "metadata": {
        "id": "54b14191-e8c4-4285-8ab8-0315bdf8fa36"
      },
      "outputs": [],
      "source": [
        "def obter_instrucao():\n",
        "    return input(\"Digite a instrução de preparo da receita: \").capitalize()"
      ]
    },
    {
      "cell_type": "code",
      "execution_count": null,
      "id": "9d6e1ee9-f291-4fd2-bd4c-572760ca0821",
      "metadata": {
        "id": "9d6e1ee9-f291-4fd2-bd4c-572760ca0821"
      },
      "outputs": [],
      "source": [
        "def criar_nova_receita():\n",
        "    nova_receita = {'nome': obter_nome(), 'ingredientes': []}\n",
        "\n",
        "    while True:\n",
        "        ingrediente = obter_ingrediente()\n",
        "        if ingrediente.lower() == 'fim':\n",
        "            break\n",
        "\n",
        "        quantidade = obter_quantidade()\n",
        "        custo = obter_custo()\n",
        "\n",
        "        nova_receita['ingredientes'].append({\n",
        "            'nome': ingrediente,\n",
        "            'quantidade': quantidade,\n",
        "            'custo': custo\n",
        "        })\n",
        "\n",
        "    nova_receita['instrucoes'] = obter_instrucao()\n",
        "    return nova_receita"
      ]
    },
    {
      "cell_type": "markdown",
      "metadata": {
        "id": "QAZ6Jl8c2YRL"
      },
      "source": [
        "### 2.2.6 - Alterar Elementos\n"
      ],
      "id": "QAZ6Jl8c2YRL"
    },
    {
      "cell_type": "code",
      "execution_count": null,
      "metadata": {
        "id": "D25AJNk_2YRL"
      },
      "outputs": [],
      "source": [
        "def busca(data: list[dict], input_name: str, field: str) -> list[dict]:\n",
        "  return [item for item in data if item[field].strip().title() == input_name.strip().title()]"
      ],
      "id": "D25AJNk_2YRL"
    },
    {
      "cell_type": "code",
      "execution_count": null,
      "metadata": {
        "id": "CmfbS1uA2YRM"
      },
      "outputs": [],
      "source": [
        "def executa_alteracao(opc, opc_funcao, dado: dict) -> None:\n",
        "    while True:\n",
        "        opcao = obter_opcoes(opc, 'Escolha o campo a ser alterado')\n",
        "\n",
        "        if opcao == 'F':\n",
        "            break\n",
        "        opc_funcao[opcao][1](dado)\n"
      ],
      "id": "CmfbS1uA2YRM"
    },
    {
      "cell_type": "code",
      "execution_count": null,
      "metadata": {
        "id": "Hb0t7JYC2YRM"
      },
      "outputs": [],
      "source": [
        "def atualizar_nome_ingrediente(ingredientes):\n",
        "    ingredientes['ingrediente'] = obter_ingrediente()\n",
        "\n",
        "def atualizar_quantidade(ingredientes):\n",
        "    ingredientes['quantidade'] = obter_quantidade()\n",
        "\n",
        "def atualizar_custo(ingredientes):\n",
        "    ingredientes['custo'] = obter_custo()\n"
      ],
      "id": "Hb0t7JYC2YRM"
    },
    {
      "cell_type": "code",
      "execution_count": null,
      "metadata": {
        "id": "IFKdSCLr2YRN"
      },
      "outputs": [],
      "source": [
        "def atualizar_nome(receita: dict):\n",
        "    receita['nome'] = obter_nome()\n",
        "\n",
        "def atualizar_instrucao(receita: dict):\n",
        "    receita['instrucoes'] = obter_instrucao()\n",
        "\n",
        "def atualizar_ingrediente(receita: dict) -> bool:\n",
        "    opc = {\n",
        "        'I': 'Ingrediente',\n",
        "        'Q': 'Quantidade',\n",
        "        'C': 'Custo',\n",
        "        'F': 'Finalizar'\n",
        "    }\n",
        "\n",
        "    opc_funcao = {\n",
        "        'I' : ('ingrediente', atualizar_nome_ingrediente),\n",
        "        'Q': ('quantidade', atualizar_quantidade),\n",
        "        'C': ('custo', atualizar_custo)\n",
        "    }\n",
        "    ingredientes = receita['ingredientes']\n",
        "    alterado = busca(ingredientes, obter_ingrediente(), 'ingrediente')\n",
        "\n",
        "    if len(alterado) == 0:\n",
        "        print('Não foi encontrado!')\n",
        "        return False\n",
        "\n",
        "    msg = f'Tem certeza que deseja alterar [{formata_ingredientes(alterado)}]'\n",
        "\n",
        "    alterado = alterado[0]\n",
        "\n",
        "    if obter_opcoes({'S': 'Sim', 'N': 'Não'}, msg) == 'S':\n",
        "        executa_alteracao(opc, opc_funcao, alterado)\n",
        "        return True\n",
        "    else:\n",
        "        return False"
      ],
      "id": "IFKdSCLr2YRN"
    },
    {
      "cell_type": "code",
      "execution_count": null,
      "metadata": {
        "id": "mImwkEAX2YRN"
      },
      "outputs": [],
      "source": [
        "def alterar_receita(receitas: list[dict]) -> bool:\n",
        "    alterado = busca(receitas, obter_nome(), 'nome')\n",
        "\n",
        "    if len(alterado) == 0:\n",
        "        print('Não foi encontrado!')\n",
        "        return False\n",
        "\n",
        "    alterado = alterado[0]\n",
        "\n",
        "    opc = {\n",
        "        'N': 'Nome',\n",
        "        'I': 'Ingredientes',\n",
        "        'P': 'Instruções de Preparo',\n",
        "        'F': 'Finalizar'\n",
        "    }\n",
        "\n",
        "    opc_funcao = {\n",
        "        'N' : ('nome', atualizar_nome),\n",
        "        'I': ('ingredientes', atualizar_ingrediente),\n",
        "        'P': ('instrucoes', atualizar_instrucao),\n",
        "    }\n",
        "\n",
        "    msg = f'Tem certeza que deseja alterar [{formata_receita(alterado)}]'\n",
        "\n",
        "    if obter_opcoes({'S': 'Sim', 'N': 'Não'}, msg) == 'S':\n",
        "        executa_alteracao(opc, opc_funcao, alterado)\n",
        "        return True\n",
        "    else:\n",
        "        return False"
      ],
      "id": "mImwkEAX2YRN"
    },
    {
      "cell_type": "markdown",
      "source": [
        "## 2.2.7 Calculando Custos"
      ],
      "metadata": {
        "id": "HvrABjWJ4E_9"
      },
      "id": "HvrABjWJ4E_9"
    },
    {
      "cell_type": "code",
      "source": [
        "def calcula_custo(receita):\n",
        "    return sum(ingrediente[\"custo\"] for ingrediente in receita[\"ingredientes\"])"
      ],
      "metadata": {
        "id": "vraxlCup5Yc9"
      },
      "id": "vraxlCup5Yc9",
      "execution_count": null,
      "outputs": []
    },
    {
      "cell_type": "markdown",
      "id": "d41fbe22-ffdb-442a-91cb-490d9ab20bb6",
      "metadata": {
        "id": "d41fbe22-ffdb-442a-91cb-490d9ab20bb6"
      },
      "source": [
        "# 3 - Code Start"
      ]
    },
    {
      "cell_type": "markdown",
      "id": "28808dfd-0c64-4d07-bc89-e8d5fcedccf1",
      "metadata": {
        "id": "28808dfd-0c64-4d07-bc89-e8d5fcedccf1"
      },
      "source": [
        "## 3.1 - Carregamento de Dados"
      ]
    },
    {
      "cell_type": "code",
      "execution_count": null,
      "id": "d1519ab0-2e62-4016-8730-9f4dc2166f9b",
      "metadata": {
        "id": "d1519ab0-2e62-4016-8730-9f4dc2166f9b"
      },
      "outputs": [],
      "source": [
        "dados = carrega_dados()"
      ]
    },
    {
      "cell_type": "code",
      "execution_count": null,
      "id": "dee91f30-1106-400e-abce-b4d1a1c79b02",
      "metadata": {
        "id": "dee91f30-1106-400e-abce-b4d1a1c79b02",
        "outputId": "a87bf2e2-dec0-4263-d6e5-053fa6e22ecd"
      },
      "outputs": [
        {
          "data": {
            "text/plain": [
              "[{'nome': 'Lasanha',\n",
              "  'ingredientes': [{'ingrediente': 'macarrão para lasanha',\n",
              "    'quantidade': '200g',\n",
              "    'custo': '2.50'},\n",
              "   {'ingrediente': 'molho de tomate', 'quantidade': '500ml', 'custo': '3.00'},\n",
              "   {'ingrediente': 'carne moída', 'quantidade': '400g', 'custo': '5.00'},\n",
              "   {'ingrediente': 'queijo', 'quantidade': '200g', 'custo': '4.00'},\n",
              "   {'ingrediente': 'manteiga', 'quantidade': '50g', 'custo': '1.00'}],\n",
              "  'instrucoes': 'Cozinhe o macarrão, faça o molho de tomate, cozinhe a carne, monte as camadas e asse no forno.'},\n",
              " {'nome': 'Salada Caesar',\n",
              "  'ingredientes': [{'ingrediente': 'alface romana',\n",
              "    'quantidade': '1 cabeça',\n",
              "    'custo': '2.00'},\n",
              "   {'ingrediente': 'croutons', 'quantidade': '1 xícara', 'custo': '1.50'},\n",
              "   {'ingrediente': 'queijo parmesão', 'quantidade': '50g', 'custo': '3.00'},\n",
              "   {'ingrediente': 'peito de frango grelhado',\n",
              "    'quantidade': '300g',\n",
              "    'custo': '6.00'},\n",
              "   {'ingrediente': 'molho Caesar', 'quantidade': '150ml', 'custo': '2.50'}],\n",
              "  'instrucoes': 'Misture os ingredientes, adicione o frango grelhado e regue com molho Caesar.'},\n",
              " {'nome': 'Sopa de Abóbora',\n",
              "  'ingredientes': [{'ingrediente': 'abóbora',\n",
              "    'quantidade': '1 kg',\n",
              "    'custo': '2.50'},\n",
              "   {'ingrediente': 'cebola', 'quantidade': '1', 'custo': '0.50'},\n",
              "   {'ingrediente': 'alho', 'quantidade': '2 dentes', 'custo': '0.30'},\n",
              "   {'ingrediente': 'caldo de galinha',\n",
              "    'quantidade': '1 litro',\n",
              "    'custo': '1.50'},\n",
              "   {'ingrediente': 'creme de leite', 'quantidade': '200ml', 'custo': '1.80'}],\n",
              "  'instrucoes': 'Refogue a cebola e o alho, adicione a abóbora e o caldo de galinha, cozinhe até ficar macio, bata no liquidificador e adicione o creme de leite.'}]"
            ]
          },
          "execution_count": 68,
          "metadata": {},
          "output_type": "execute_result"
        }
      ],
      "source": [
        "dados"
      ]
    },
    {
      "cell_type": "markdown",
      "id": "45e48085-dc4e-450f-bd28-810f9db763c6",
      "metadata": {
        "id": "45e48085-dc4e-450f-bd28-810f9db763c6"
      },
      "source": [
        "## 3.2 - Visualizar os dados carregados"
      ]
    },
    {
      "cell_type": "code",
      "execution_count": null,
      "id": "e3148ddd-c83c-4f59-a9eb-9d1211f78a41",
      "metadata": {
        "id": "e3148ddd-c83c-4f59-a9eb-9d1211f78a41"
      },
      "outputs": [],
      "source": [
        "resultado_formatado = formata_lista_receitas(dados)"
      ]
    },
    {
      "cell_type": "code",
      "execution_count": null,
      "id": "020254f2-11c7-4bfe-8349-3e8a4cfd2178",
      "metadata": {
        "id": "020254f2-11c7-4bfe-8349-3e8a4cfd2178",
        "outputId": "1bb4f685-92d9-4927-da1b-8a68b8cf7f62"
      },
      "outputs": [
        {
          "name": "stdout",
          "output_type": "stream",
          "text": [
            "Lasanha:\n",
            " Ingredientes:\n",
            "  ingrediente: macarrão para lasanha | quantidade: 200g | custo: 2.50\n",
            "  ingrediente: molho de tomate | quantidade: 500ml | custo: 3.00\n",
            "  ingrediente: carne moída | quantidade: 400g | custo: 5.00\n",
            "  ingrediente: queijo | quantidade: 200g | custo: 4.00\n",
            "  ingrediente: manteiga | quantidade: 50g | custo: 1.00\n",
            " Instruções: Cozinhe o macarrão, faça o molho de tomate, cozinhe a carne, monte as camadas e asse no forno.\n",
            "\n",
            "Salada Caesar:\n",
            " Ingredientes:\n",
            "  ingrediente: alface romana | quantidade: 1 cabeça | custo: 2.00\n",
            "  ingrediente: croutons | quantidade: 1 xícara | custo: 1.50\n",
            "  ingrediente: queijo parmesão | quantidade: 50g | custo: 3.00\n",
            "  ingrediente: peito de frango grelhado | quantidade: 300g | custo: 6.00\n",
            "  ingrediente: molho Caesar | quantidade: 150ml | custo: 2.50\n",
            " Instruções: Misture os ingredientes, adicione o frango grelhado e regue com molho Caesar.\n",
            "\n",
            "Sopa de Abóbora:\n",
            " Ingredientes:\n",
            "  ingrediente: abóbora | quantidade: 1 kg | custo: 2.50\n",
            "  ingrediente: cebola | quantidade: 1 | custo: 0.50\n",
            "  ingrediente: alho | quantidade: 2 dentes | custo: 0.30\n",
            "  ingrediente: caldo de galinha | quantidade: 1 litro | custo: 1.50\n",
            "  ingrediente: creme de leite | quantidade: 200ml | custo: 1.80\n",
            " Instruções: Refogue a cebola e o alho, adicione a abóbora e o caldo de galinha, cozinhe até ficar macio, bata no liquidificador e adicione o creme de leite.\n",
            "\n"
          ]
        }
      ],
      "source": [
        "print(resultado_formatado)"
      ]
    },
    {
      "cell_type": "markdown",
      "id": "fa864378",
      "metadata": {
        "id": "fa864378"
      },
      "source": [
        "## 3.3 - Leitura Individual"
      ]
    },
    {
      "cell_type": "code",
      "execution_count": null,
      "id": "09363c50",
      "metadata": {
        "id": "09363c50"
      },
      "outputs": [],
      "source": [
        "x = verifica_escolha(dados, 'Salada Caesar')"
      ]
    },
    {
      "cell_type": "code",
      "execution_count": null,
      "id": "d38db889",
      "metadata": {
        "id": "d38db889",
        "outputId": "8a47bae7-aca5-4b47-b152-45b2ff60b9a7"
      },
      "outputs": [
        {
          "data": {
            "text/plain": [
              "[{'nome': 'Salada Caesar',\n",
              "  'ingredientes': [{'ingrediente': 'alface romana',\n",
              "    'quantidade': '1 cabeça',\n",
              "    'custo': '2.00'},\n",
              "   {'ingrediente': 'croutons', 'quantidade': '1 xícara', 'custo': '1.50'},\n",
              "   {'ingrediente': 'queijo parmesão', 'quantidade': '50g', 'custo': '3.00'},\n",
              "   {'ingrediente': 'peito de frango grelhado',\n",
              "    'quantidade': '300g',\n",
              "    'custo': '6.00'},\n",
              "   {'ingrediente': 'molho Caesar', 'quantidade': '150ml', 'custo': '2.50'}],\n",
              "  'instrucoes': 'Misture os ingredientes, adicione o frango grelhado e regue com molho Caesar.'}]"
            ]
          },
          "execution_count": 26,
          "metadata": {},
          "output_type": "execute_result"
        }
      ],
      "source": [
        "x"
      ]
    },
    {
      "cell_type": "markdown",
      "id": "4ddd7cc0-82fa-45f7-872e-0911c0cfe504",
      "metadata": {
        "id": "4ddd7cc0-82fa-45f7-872e-0911c0cfe504"
      },
      "source": [
        "## 3.4 - Adiciona Elemento"
      ]
    },
    {
      "cell_type": "code",
      "execution_count": null,
      "id": "de298c16-569b-4506-8407-b67e662e5710",
      "metadata": {
        "id": "de298c16-569b-4506-8407-b67e662e5710",
        "outputId": "76616a59-0c59-4eee-f0fa-974978abae1d"
      },
      "outputs": [
        {
          "data": {
            "text/plain": [
              "{'nome': 'Receita 4',\n",
              " 'ingredientes': [{'nome': 'Ingrediente 1', 'quantidade': 3.0, 'custo': 4.2}],\n",
              " 'instrucoes': 'Confia'}"
            ]
          },
          "execution_count": 106,
          "metadata": {},
          "output_type": "execute_result"
        }
      ],
      "source": [
        "criar_nova_receita()\n"
      ]
    },
    {
      "cell_type": "markdown",
      "metadata": {
        "id": "oFJtZeEi2YRe"
      },
      "source": [
        "## 3.5 - Alterar Receita"
      ],
      "id": "oFJtZeEi2YRe"
    },
    {
      "cell_type": "code",
      "execution_count": null,
      "metadata": {
        "id": "ka1_zdIO2YRf",
        "outputId": "412d2514-4357-4bd0-d883-743bc77f03e0"
      },
      "outputs": [
        {
          "data": {
            "text/plain": [
              "True"
            ]
          },
          "execution_count": 85,
          "metadata": {},
          "output_type": "execute_result"
        }
      ],
      "source": [
        "alterar_receita(dados)"
      ],
      "id": "ka1_zdIO2YRf"
    },
    {
      "cell_type": "code",
      "execution_count": null,
      "metadata": {
        "id": "xAogu8cg2YRf",
        "outputId": "9e82de54-ba00-4253-f9e9-b85b532f0106"
      },
      "outputs": [
        {
          "name": "stdout",
          "output_type": "stream",
          "text": [
            "Lasanha2:\n",
            " Ingredientes:\n",
            "  ingrediente: Macarrão | quantidade: 300.0 | custo: 2.5\n",
            "  ingrediente: molho de tomate | quantidade: 500ml | custo: 3.00\n",
            "  ingrediente: carne moída | quantidade: 400g | custo: 5.00\n",
            "  ingrediente: queijo | quantidade: 200g | custo: 4.00\n",
            "  ingrediente: manteiga | quantidade: 50g | custo: 1.00\n",
            " Instruções: Confia 2 vezes\n",
            "\n",
            "Salada Caesar:\n",
            " Ingredientes:\n",
            "  ingrediente: alface romana | quantidade: 1 cabeça | custo: 2.00\n",
            "  ingrediente: croutons | quantidade: 1 xícara | custo: 1.50\n",
            "  ingrediente: queijo parmesão | quantidade: 50g | custo: 3.00\n",
            "  ingrediente: peito de frango grelhado | quantidade: 300g | custo: 6.00\n",
            "  ingrediente: molho Caesar | quantidade: 150ml | custo: 2.50\n",
            " Instruções: Misture os ingredientes, adicione o frango grelhado e regue com molho Caesar.\n",
            "\n",
            "Sopa de Abóbora:\n",
            " Ingredientes:\n",
            "  ingrediente: abóbora | quantidade: 1 kg | custo: 2.50\n",
            "  ingrediente: cebola | quantidade: 1 | custo: 0.50\n",
            "  ingrediente: alho | quantidade: 2 dentes | custo: 0.30\n",
            "  ingrediente: caldo de galinha | quantidade: 1 litro | custo: 1.50\n",
            "  ingrediente: creme de leite | quantidade: 200ml | custo: 1.80\n",
            " Instruções: Refogue a cebola e o alho, adicione a abóbora e o caldo de galinha, cozinhe até ficar macio, bata no liquidificador e adicione o creme de leite.\n",
            "\n"
          ]
        }
      ],
      "source": [
        "print(formata_lista_receitas(dados))"
      ],
      "id": "xAogu8cg2YRf"
    }
  ],
  "metadata": {
    "kernelspec": {
      "display_name": "Python 3 (ipykernel)",
      "language": "python",
      "name": "python3"
    },
    "language_info": {
      "codemirror_mode": {
        "name": "ipython",
        "version": 3
      },
      "file_extension": ".py",
      "mimetype": "text/x-python",
      "name": "python",
      "nbconvert_exporter": "python",
      "pygments_lexer": "ipython3",
      "version": "3.10.8"
    },
    "colab": {
      "provenance": []
    }
  },
  "nbformat": 4,
  "nbformat_minor": 5
}