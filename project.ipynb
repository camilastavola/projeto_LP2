{
 "cells": [
  {
   "cell_type": "markdown",
   "id": "26a0ea25-f19b-4df9-bbc7-51325fa99ccd",
   "metadata": {
    "jp-MarkdownHeadingCollapsed": true
   },
   "source": [
    "# 1 - PROBLEM\n",
    "\n",
    "## Requisitos\n",
    "\n",
    "1. **Leitura de Dados:** Desenvolva um componente capaz de ler uma lista de objetos contidos em um arquivo JSON, representando informações sobre tema escolhidoes.\n",
    "\n",
    "2. **Mapeamento, Filtro e Redução:** Implemente funcionalidades para realizar mapeamento, filtragem e redução dos dados, proporcionando uma análise mais refinada das informações contidas no conjunto de dados.\n",
    "\n",
    "3. **Manipulação de Dados Individuais:** Permita a leitura individual, atualização e exclusão de do arquivossores, mantendo o arquivo JSON sempre atualizado.\n",
    "\n",
    "4. **Validações de Operações:** Integre validações utilizando blocos try-except e raise para garantir a robustez das operações, prevenindo erros e assegurando a consistência dos dados.\n",
    "\n",
    "5. **Obtenção de Estatísticas Simples:** Desenvolva uma função para extrair dados estatísticos simples, como média, máximo e mínimo, por exemplo, aum item X nos dados de exatas.\n",
    "\n",
    "6. **Identificação de Máximos/Mínimos com Detalhes:** Crie uma função que retorne uma lista de tuplas, contendXdo professor e o valor máximo (ou mínimo) de algum atributo numérico. Esta função deve ser configurável para fornecer estatísticas de máximo ou mínimo.\n",
    "\n",
    "7. **Exportação de Dados Estatísticos para CSV:** Implemente a capacidade de salvar os dados estatísticos obtidos em um arquivo CSV, permitindo uma análise posterior ou compartilhamento fácil dos resultados."
   ]
  },
  {
   "cell_type": "markdown",
   "id": "1e88ed0b-5775-423c-bb58-0348d7e558b1",
   "metadata": {},
   "source": [
    "# 2 - IMPORTS"
   ]
  },
  {
   "cell_type": "markdown",
   "id": "2a3537e6-5b90-4699-b228-52bb09ce006c",
   "metadata": {
    "jp-MarkdownHeadingCollapsed": true
   },
   "source": [
    "## 2.1 - Bibliotecas"
   ]
  },
  {
   "cell_type": "code",
   "execution_count": 1,
   "id": "f867f964-c4d4-4934-80bb-1c5626279718",
   "metadata": {},
   "outputs": [],
   "source": [
    "import json"
   ]
  },
  {
   "cell_type": "markdown",
   "id": "486216f6-bc4f-4349-9d7c-02cfbedf1fc4",
   "metadata": {},
   "source": [
    "## 2.2 - Funções"
   ]
  },
  {
   "cell_type": "markdown",
   "id": "58a835a0-27da-4ab6-b336-c9d1398053a4",
   "metadata": {
    "jp-MarkdownHeadingCollapsed": true
   },
   "source": [
    "### 2.2.1 - Leitura do Arquivo"
   ]
  },
  {
   "cell_type": "code",
   "execution_count": 2,
   "id": "58bfbdae-660f-4656-8246-2b575bb83a9a",
   "metadata": {},
   "outputs": [],
   "source": [
    "def carrega_dados(path:str = 'data/receitas.json') -> list[dict]:\n",
    "    try:\n",
    "        with open(path, 'r', encoding='utf-8') as arquivo:\n",
    "            dados = arquivo.read()\n",
    "            return json.loads(dados)\n",
    "    except FileNotFoundError:\n",
    "        return []"
   ]
  },
  {
   "cell_type": "markdown",
   "id": "00a11b9d-a68b-4883-9a19-6e9d9c8f4908",
   "metadata": {
    "jp-MarkdownHeadingCollapsed": true
   },
   "source": [
    "### 2.2.2 - Salvamento do Arquivo"
   ]
  },
  {
   "cell_type": "code",
   "execution_count": 3,
   "id": "b163b91f-3dfa-43ef-b061-13a176e0661d",
   "metadata": {},
   "outputs": [],
   "source": [
    "def salvar_dados(dados:list[dict], path:str = 'data/receitas.json') -> bool:\n",
    "    try:\n",
    "        with open(path, 'w') as arquivo:\n",
    "            arquivo.write(json.dumps(dados))\n",
    "            return True\n",
    "    except Exception:\n",
    "        return False"
   ]
  },
  {
   "cell_type": "markdown",
   "id": "72eb0087-4a1a-4911-b0a2-dbe86b710e0c",
   "metadata": {
    "jp-MarkdownHeadingCollapsed": true
   },
   "source": [
    "### 2.2.3 - Visualização do Arquivo"
   ]
  },
  {
   "cell_type": "code",
   "execution_count": 4,
   "id": "3bca0509-f9d5-412e-84e7-ad6654e6a943",
   "metadata": {},
   "outputs": [],
   "source": [
    "def formata_lista_receitas(lista_receitas):\n",
    "    return '\\n'.join(map(formata_receita, lista_receitas))"
   ]
  },
  {
   "cell_type": "code",
   "execution_count": 5,
   "id": "06875c72-c4b3-4bd7-8ac9-f6ccda5ce7ca",
   "metadata": {},
   "outputs": [],
   "source": [
    "def formata_receita(receita):\n",
    "    nome = receita['nome']\n",
    "    ingredientes = formata_ingredientes(receita['ingredientes'])\n",
    "    instrucoes = receita['instrucoes']\n",
    "    return f'{nome}:\\n Ingredientes:\\n  {ingredientes}\\n Instruções: {instrucoes}\\n'"
   ]
  },
  {
   "cell_type": "code",
   "execution_count": 6,
   "id": "779a87a8-2774-474d-b90c-2309a2ca5633",
   "metadata": {},
   "outputs": [],
   "source": [
    "def formata_ingredientes(ingredientes: list) -> str:\n",
    "    return '\\n  '.join(map(formata_dicionario, ingredientes))"
   ]
  },
  {
   "cell_type": "code",
   "execution_count": 7,
   "id": "7b6497fc-991c-4371-b6a5-7810bd809d1d",
   "metadata": {},
   "outputs": [],
   "source": [
    "def formata_dicionario(dados: dict) -> str:\n",
    "    return ' | '.join([f'{k}: {v}' for k, v in dados.items()])"
   ]
  },
  {
   "cell_type": "markdown",
   "metadata": {},
   "source": [
    "### 2.2.4 - Leitura do Arquivo"
   ]
  },
  {
   "cell_type": "code",
   "execution_count": 8,
   "metadata": {},
   "outputs": [],
   "source": [
    "def retorna_dicionario(dado: dict, escolha=''):\n",
    "    return dado if escolha in dado['nome'] else None"
   ]
  },
  {
   "cell_type": "code",
   "execution_count": 9,
   "metadata": {},
   "outputs": [],
   "source": [
    "def verifica_escolha(data, escolha=''):\n",
    "    resultado = []\n",
    "    for dado in data:\n",
    "        if retorna_dicionario(dado, escolha) is not None:\n",
    "            resultado.append(dado)\n",
    "    return resultado"
   ]
  },
  {
   "cell_type": "markdown",
   "id": "d41fbe22-ffdb-442a-91cb-490d9ab20bb6",
   "metadata": {},
   "source": [
    "# 3 - Code Start"
   ]
  },
  {
   "cell_type": "markdown",
   "id": "28808dfd-0c64-4d07-bc89-e8d5fcedccf1",
   "metadata": {},
   "source": [
    "## 3.1 - Carregamento de Dados"
   ]
  },
  {
   "cell_type": "code",
   "execution_count": 10,
   "id": "0ae5f4bf-7f35-429f-a792-2c8e9c5ee1f9",
   "metadata": {},
   "outputs": [],
   "source": [
    "url = ''"
   ]
  },
  {
   "cell_type": "code",
   "execution_count": 11,
   "id": "d1519ab0-2e62-4016-8730-9f4dc2166f9b",
   "metadata": {},
   "outputs": [],
   "source": [
    "dados = carrega_dados(url)"
   ]
  },
  {
   "cell_type": "code",
   "execution_count": 12,
   "id": "dee91f30-1106-400e-abce-b4d1a1c79b02",
   "metadata": {},
   "outputs": [
    {
     "data": {
      "text/plain": [
       "[]"
      ]
     },
     "execution_count": 12,
     "metadata": {},
     "output_type": "execute_result"
    }
   ],
   "source": [
    "dados"
   ]
  },
  {
   "cell_type": "markdown",
   "id": "45e48085-dc4e-450f-bd28-810f9db763c6",
   "metadata": {},
   "source": [
    "## 3.2 - Visualizar os dados carregados"
   ]
  },
  {
   "cell_type": "code",
   "execution_count": 13,
   "id": "e3148ddd-c83c-4f59-a9eb-9d1211f78a41",
   "metadata": {},
   "outputs": [],
   "source": [
    "resultado_formatado = formata_lista_receitas(dados)"
   ]
  },
  {
   "cell_type": "code",
   "execution_count": 14,
   "id": "020254f2-11c7-4bfe-8349-3e8a4cfd2178",
   "metadata": {},
   "outputs": [
    {
     "name": "stdout",
     "output_type": "stream",
     "text": [
      "\n"
     ]
    }
   ],
   "source": [
    "print(resultado_formatado)"
   ]
  },
  {
   "cell_type": "markdown",
   "metadata": {},
   "source": [
    "## 3.3 - Leitura Individual"
   ]
  },
  {
   "cell_type": "code",
   "execution_count": 15,
   "metadata": {},
   "outputs": [],
   "source": [
    "x = verifica_escolha(dados, 'Salada Caesar')"
   ]
  },
  {
   "cell_type": "code",
   "execution_count": 16,
   "metadata": {},
   "outputs": [
    {
     "data": {
      "text/plain": [
       "[]"
      ]
     },
     "execution_count": 16,
     "metadata": {},
     "output_type": "execute_result"
    }
   ],
   "source": [
    "x"
   ]
  }
 ],
 "metadata": {
  "kernelspec": {
   "display_name": "Python 3 (ipykernel)",
   "language": "python",
   "name": "python3"
  },
  "language_info": {
   "codemirror_mode": {
    "name": "ipython",
    "version": 3
   },
   "file_extension": ".py",
   "mimetype": "text/x-python",
   "name": "python",
   "nbconvert_exporter": "python",
   "pygments_lexer": "ipython3",
   "version": "3.11.5"
  }
 },
 "nbformat": 4,
 "nbformat_minor": 5
}
