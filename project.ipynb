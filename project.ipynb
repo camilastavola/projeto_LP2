{
 "cells": [
  {
   "cell_type": "markdown",
   "id": "26a0ea25-f19b-4df9-bbc7-51325fa99ccd",
   "metadata": {
    "jp-MarkdownHeadingCollapsed": true
   },
   "source": [
    "# 1 - PROBLEM\n",
    "\n",
    "## Requisitos\n",
    "\n",
    "1. **Leitura de Dados:** Desenvolva um componente capaz de ler uma lista de objetos contidos em um arquivo JSON, representando informações sobre tema escolhidoes.\n",
    "\n",
    "2. **Mapeamento, Filtro e Redução:** Implemente funcionalidades para realizar mapeamento, filtragem e redução dos dados, proporcionando uma análise mais refinada das informações contidas no conjunto de dados.\n",
    "\n",
    "3. **Manipulação de Dados Individuais:** Permita a leitura individual, atualização e exclusão de do arquivossores, mantendo o arquivo JSON sempre atualizado.\n",
    "\n",
    "4. **Validações de Operações:** Integre validações utilizando blocos try-except e raise para garantir a robustez das operações, prevenindo erros e assegurando a consistência dos dados.\n",
    "\n",
    "5. **Obtenção de Estatísticas Simples:** Desenvolva uma função para extrair dados estatísticos simples, como média, máximo e mínimo, por exemplo, aum item X nos dados de exatas.\n",
    "\n",
    "6. **Identificação de Máximos/Mínimos com Detalhes:** Crie uma função que retorne uma lista de tuplas, contendXdo professor e o valor máximo (ou mínimo) de algum atributo numérico. Esta função deve ser configurável para fornecer estatísticas de máximo ou mínimo.\n",
    "\n",
    "7. **Exportação de Dados Estatísticos para CSV:** Implemente a capacidade de salvar os dados estatísticos obtidos em um arquivo CSV, permitindo uma análise posterior ou compartilhamento fácil dos resultados."
   ]
  },
  {
   "cell_type": "markdown",
   "id": "1e88ed0b-5775-423c-bb58-0348d7e558b1",
   "metadata": {},
   "source": [
    "# 2 - IMPORTS"
   ]
  },
  {
   "cell_type": "markdown",
   "id": "2a3537e6-5b90-4699-b228-52bb09ce006c",
   "metadata": {
    "jp-MarkdownHeadingCollapsed": true
   },
   "source": [
    "## 2.1 - Bibliotecas"
   ]
  },
  {
   "cell_type": "code",
   "execution_count": 1,
   "id": "f867f964-c4d4-4934-80bb-1c5626279718",
   "metadata": {},
   "outputs": [],
   "source": [
    "import json"
   ]
  },
  {
   "cell_type": "markdown",
   "id": "486216f6-bc4f-4349-9d7c-02cfbedf1fc4",
   "metadata": {},
   "source": [
    "## 2.2 - Funções"
   ]
  },
  {
   "cell_type": "markdown",
   "id": "58a835a0-27da-4ab6-b336-c9d1398053a4",
   "metadata": {
    "jp-MarkdownHeadingCollapsed": true
   },
   "source": [
    "### 2.2.1 - Leitura do Arquivo"
   ]
  },
  {
   "cell_type": "code",
   "execution_count": 2,
   "id": "58bfbdae-660f-4656-8246-2b575bb83a9a",
   "metadata": {},
   "outputs": [],
   "source": [
    "def carrega_dados(path:str = 'data/receitas.json') -> list[dict]:\n",
    "    try:\n",
    "        with open(path, 'r', encoding='utf-8') as arquivo:\n",
    "            dados = arquivo.read()\n",
    "            return json.loads(dados)\n",
    "    except FileNotFoundError:\n",
    "        return []"
   ]
  },
  {
   "cell_type": "markdown",
   "id": "00a11b9d-a68b-4883-9a19-6e9d9c8f4908",
   "metadata": {
    "jp-MarkdownHeadingCollapsed": true
   },
   "source": [
    "### 2.2.2 - Salvamento do Arquivo"
   ]
  },
  {
   "cell_type": "code",
   "execution_count": 3,
   "id": "b163b91f-3dfa-43ef-b061-13a176e0661d",
   "metadata": {},
   "outputs": [],
   "source": [
    "def salvar_dados(dados:list[dict], path:str = 'data/receitas.json') -> bool:\n",
    "    try:\n",
    "        with open(path, 'w', encoding='utf-8') as arquivo:\n",
    "            arquivo.write(json.dumps(dados))\n",
    "            return True\n",
    "    except Exception:\n",
    "        return False"
   ]
  },
  {
   "cell_type": "markdown",
   "id": "72eb0087-4a1a-4911-b0a2-dbe86b710e0c",
   "metadata": {
    "jp-MarkdownHeadingCollapsed": true
   },
   "source": [
    "### 2.2.3 - Visualização do Arquivo"
   ]
  },
  {
   "cell_type": "code",
   "execution_count": 4,
   "id": "3bca0509-f9d5-412e-84e7-ad6654e6a943",
   "metadata": {},
   "outputs": [],
   "source": [
    "def formata_lista_receitas(lista_receitas):\n",
    "    return '\\n'.join(map(formata_receita, lista_receitas))"
   ]
  },
  {
   "cell_type": "code",
   "execution_count": 5,
   "id": "06875c72-c4b3-4bd7-8ac9-f6ccda5ce7ca",
   "metadata": {},
   "outputs": [],
   "source": [
    "def formata_receita(receita):\n",
    "    nome = receita['nome']\n",
    "    ingredientes = formata_ingredientes(receita['ingredientes'])\n",
    "    instrucoes = receita['instrucoes']\n",
    "    return f'{nome}:\\n Ingredientes:\\n  {ingredientes}\\n Instruções: {instrucoes}\\n'"
   ]
  },
  {
   "cell_type": "code",
   "execution_count": 6,
   "id": "779a87a8-2774-474d-b90c-2309a2ca5633",
   "metadata": {},
   "outputs": [],
   "source": [
    "def formata_ingredientes(ingredientes: list) -> str:\n",
    "    return '\\n  '.join(map(formata_dicionario, ingredientes))"
   ]
  },
  {
   "cell_type": "code",
   "execution_count": 7,
   "id": "7b6497fc-991c-4371-b6a5-7810bd809d1d",
   "metadata": {},
   "outputs": [],
   "source": [
    "def formata_dicionario(dados: dict) -> str:\n",
    "    return ' | '.join([f'{k}: {v}' for k, v in dados.items()])"
   ]
  },
  {
   "cell_type": "markdown",
   "id": "e402cbd1",
   "metadata": {},
   "source": [
    "### 2.2.4 - Leitura do Arquivo"
   ]
  },
  {
   "cell_type": "code",
   "execution_count": 8,
   "id": "4e1dbb74",
   "metadata": {},
   "outputs": [],
   "source": [
    "def retorna_dicionario(dado: dict, escolha=''):\n",
    "    return dado if escolha in dado['nome'] else None"
   ]
  },
  {
   "cell_type": "code",
   "execution_count": 9,
   "id": "850d8333",
   "metadata": {},
   "outputs": [],
   "source": [
    "def verifica_escolha(data, escolha=''):\n",
    "    resultado = []\n",
    "    for dado in data:\n",
    "        if retorna_dicionario(dado, escolha) is not None:\n",
    "            resultado.append(dado)\n",
    "    return resultado"
   ]
  },
  {
   "cell_type": "markdown",
   "id": "4f95365a-41bc-456d-88e5-cdab8e86183c",
   "metadata": {},
   "source": [
    "### 2.2.5 - Adiciona Elemento"
   ]
  },
  {
   "cell_type": "code",
   "execution_count": 1,
   "id": "011ef1ae-1479-4346-a3ed-c76a401aed29",
   "metadata": {},
   "outputs": [],
   "source": [
    "def obter_nome():\n",
    "    while True:\n",
    "        nome = input(\"Digite o nome da nova receita: \").strip().capitalize()\n",
    "        if nome:\n",
    "            return nome\n",
    "        else:\n",
    "            print(\"Nome inválido. Por favor, digite novamente.\")"
   ]
  },
  {
   "cell_type": "code",
   "execution_count": 2,
   "id": "c6401c04-73a5-48fb-b61d-2f079a52ae6b",
   "metadata": {},
   "outputs": [],
   "source": [
    "def obter_ingrediente():\n",
    "    while True:\n",
    "        ingrediente = input(\"Digite o nome do ingrediente (ou 'fim' para encerrar): \").strip().capitalize()\n",
    "        if ingrediente.lower() == 'fim' or ingrediente:\n",
    "            return ingrediente\n",
    "        else:\n",
    "            print(\"Ingrediente inválido. Por favor, digite novamente.\")"
   ]
  },
  {
   "cell_type": "code",
   "execution_count": 3,
   "id": "2a0c0932-1e8e-41df-a829-44faf3ce427f",
   "metadata": {},
   "outputs": [],
   "source": [
    "def obter_quantidade():\n",
    "    while True:\n",
    "        quantidade = input(\"Digite a quantidade do ingrediente: \").strip()\n",
    "        if quantidade and validar_numero(quantidade):\n",
    "            return float(quantidade)\n",
    "        else:\n",
    "            print(\"Quantidade inválida. Por favor, digite novamente.\")"
   ]
  },
  {
   "cell_type": "code",
   "execution_count": 4,
   "id": "84817226-7699-4b24-8378-41cd6dd42d75",
   "metadata": {},
   "outputs": [],
   "source": [
    "def obter_custo():\n",
    "    while True:\n",
    "        custo = input(\"Digite o valor do ingrediente: \").strip()\n",
    "        if custo and validar_numero(custo):\n",
    "            return float(custo)\n",
    "        else:\n",
    "            print(\"Custo inválido. Por favor, digite novamente.\")"
   ]
  },
  {
   "cell_type": "code",
   "execution_count": 5,
   "id": "e9755465-ff58-4e31-9df9-61fdb7735a8d",
   "metadata": {},
   "outputs": [],
   "source": [
    "def validar_numero(valor):\n",
    "    try:\n",
    "        return float(valor) >= 0\n",
    "    except ValueError:\n",
    "        return False"
   ]
  },
  {
   "cell_type": "code",
   "execution_count": 6,
   "id": "54b14191-e8c4-4285-8ab8-0315bdf8fa36",
   "metadata": {},
   "outputs": [],
   "source": [
    "def obter_instrucao():\n",
    "    return input(\"Digite a instrução de preparo da receita: \").capitalize()"
   ]
  },
  {
   "cell_type": "code",
   "execution_count": 7,
   "id": "9d6e1ee9-f291-4fd2-bd4c-572760ca0821",
   "metadata": {},
   "outputs": [],
   "source": [
    "def criar_nova_receita():\n",
    "    nova_receita = {'nome': obter_nome(), 'ingredientes': []}\n",
    "\n",
    "    while True:\n",
    "        ingrediente = obter_ingrediente()\n",
    "        if ingrediente.lower() == 'fim':\n",
    "            break\n",
    "\n",
    "        quantidade = obter_quantidade()\n",
    "        custo = obter_custo()\n",
    "\n",
    "        nova_receita['ingredientes'].append({\n",
    "            'nome': ingrediente,\n",
    "            'quantidade': quantidade,\n",
    "            'custo': custo\n",
    "        })\n",
    "\n",
    "    nova_receita['instrucoes'] = obter_instrucao()\n",
    "    return nova_receita"
   ]
  },
  {
   "cell_type": "markdown",
   "id": "d41fbe22-ffdb-442a-91cb-490d9ab20bb6",
   "metadata": {},
   "source": [
    "# 3 - Code Start"
   ]
  },
  {
   "cell_type": "markdown",
   "id": "28808dfd-0c64-4d07-bc89-e8d5fcedccf1",
   "metadata": {},
   "source": [
    "## 3.1 - Carregamento de Dados"
   ]
  },
  {
   "cell_type": "code",
   "execution_count": 10,
   "id": "d1519ab0-2e62-4016-8730-9f4dc2166f9b",
   "metadata": {},
   "outputs": [],
   "source": [
    "dados = carrega_dados()"
   ]
  },
  {
   "cell_type": "code",
   "execution_count": 11,
   "id": "dee91f30-1106-400e-abce-b4d1a1c79b02",
   "metadata": {},
   "outputs": [
    {
     "data": {
      "text/plain": [
       "[{'nome': 'Lasanha',\n",
       "  'ingredientes': [{'ingrediente': 'macarrão para lasanha',\n",
       "    'quantidade': '200g',\n",
       "    'custo': '2.50'},\n",
       "   {'ingrediente': 'molho de tomate', 'quantidade': '500ml', 'custo': '3.00'},\n",
       "   {'ingrediente': 'carne moída', 'quantidade': '400g', 'custo': '5.00'},\n",
       "   {'ingrediente': 'queijo', 'quantidade': '200g', 'custo': '4.00'},\n",
       "   {'ingrediente': 'manteiga', 'quantidade': '50g', 'custo': '1.00'}],\n",
       "  'instrucoes': 'Cozinhe o macarrão, faça o molho de tomate, cozinhe a carne, monte as camadas e asse no forno.'},\n",
       " {'nome': 'Salada Caesar',\n",
       "  'ingredientes': [{'ingrediente': 'alface romana',\n",
       "    'quantidade': '1 cabeça',\n",
       "    'custo': '2.00'},\n",
       "   {'ingrediente': 'croutons', 'quantidade': '1 xícara', 'custo': '1.50'},\n",
       "   {'ingrediente': 'queijo parmesão', 'quantidade': '50g', 'custo': '3.00'},\n",
       "   {'ingrediente': 'peito de frango grelhado',\n",
       "    'quantidade': '300g',\n",
       "    'custo': '6.00'},\n",
       "   {'ingrediente': 'molho Caesar', 'quantidade': '150ml', 'custo': '2.50'}],\n",
       "  'instrucoes': 'Misture os ingredientes, adicione o frango grelhado e regue com molho Caesar.'},\n",
       " {'nome': 'Sopa de Abóbora',\n",
       "  'ingredientes': [{'ingrediente': 'abóbora',\n",
       "    'quantidade': '1 kg',\n",
       "    'custo': '2.50'},\n",
       "   {'ingrediente': 'cebola', 'quantidade': '1', 'custo': '0.50'},\n",
       "   {'ingrediente': 'alho', 'quantidade': '2 dentes', 'custo': '0.30'},\n",
       "   {'ingrediente': 'caldo de galinha',\n",
       "    'quantidade': '1 litro',\n",
       "    'custo': '1.50'},\n",
       "   {'ingrediente': 'creme de leite', 'quantidade': '200ml', 'custo': '1.80'}],\n",
       "  'instrucoes': 'Refogue a cebola e o alho, adicione a abóbora e o caldo de galinha, cozinhe até ficar macio, bata no liquidificador e adicione o creme de leite.'}]"
      ]
     },
     "execution_count": 11,
     "metadata": {},
     "output_type": "execute_result"
    }
   ],
   "source": [
    "dados"
   ]
  },
  {
   "cell_type": "markdown",
   "id": "45e48085-dc4e-450f-bd28-810f9db763c6",
   "metadata": {},
   "source": [
    "## 3.2 - Visualizar os dados carregados"
   ]
  },
  {
   "cell_type": "code",
   "execution_count": 12,
   "id": "e3148ddd-c83c-4f59-a9eb-9d1211f78a41",
   "metadata": {},
   "outputs": [],
   "source": [
    "resultado_formatado = formata_lista_receitas(dados)"
   ]
  },
  {
   "cell_type": "code",
   "execution_count": 13,
   "id": "020254f2-11c7-4bfe-8349-3e8a4cfd2178",
   "metadata": {},
   "outputs": [
    {
     "name": "stdout",
     "output_type": "stream",
     "text": [
      "Lasanha:\n",
      " Ingredientes:\n",
      "  ingrediente: macarrão para lasanha | quantidade: 200g | custo: 2.50\n",
      "  ingrediente: molho de tomate | quantidade: 500ml | custo: 3.00\n",
      "  ingrediente: carne moída | quantidade: 400g | custo: 5.00\n",
      "  ingrediente: queijo | quantidade: 200g | custo: 4.00\n",
      "  ingrediente: manteiga | quantidade: 50g | custo: 1.00\n",
      " Instruções: Cozinhe o macarrão, faça o molho de tomate, cozinhe a carne, monte as camadas e asse no forno.\n",
      "\n",
      "Salada Caesar:\n",
      " Ingredientes:\n",
      "  ingrediente: alface romana | quantidade: 1 cabeça | custo: 2.00\n",
      "  ingrediente: croutons | quantidade: 1 xícara | custo: 1.50\n",
      "  ingrediente: queijo parmesão | quantidade: 50g | custo: 3.00\n",
      "  ingrediente: peito de frango grelhado | quantidade: 300g | custo: 6.00\n",
      "  ingrediente: molho Caesar | quantidade: 150ml | custo: 2.50\n",
      " Instruções: Misture os ingredientes, adicione o frango grelhado e regue com molho Caesar.\n",
      "\n",
      "Sopa de Abóbora:\n",
      " Ingredientes:\n",
      "  ingrediente: abóbora | quantidade: 1 kg | custo: 2.50\n",
      "  ingrediente: cebola | quantidade: 1 | custo: 0.50\n",
      "  ingrediente: alho | quantidade: 2 dentes | custo: 0.30\n",
      "  ingrediente: caldo de galinha | quantidade: 1 litro | custo: 1.50\n",
      "  ingrediente: creme de leite | quantidade: 200ml | custo: 1.80\n",
      " Instruções: Refogue a cebola e o alho, adicione a abóbora e o caldo de galinha, cozinhe até ficar macio, bata no liquidificador e adicione o creme de leite.\n",
      "\n"
     ]
    }
   ],
   "source": [
    "print(resultado_formatado)"
   ]
  },
  {
   "cell_type": "markdown",
   "id": "fa864378",
   "metadata": {},
   "source": [
    "## 3.3 - Leitura Individual"
   ]
  },
  {
   "cell_type": "code",
   "execution_count": 14,
   "id": "09363c50",
   "metadata": {},
   "outputs": [],
   "source": [
    "x = verifica_escolha(dados, 'Salada Caesar')"
   ]
  },
  {
   "cell_type": "code",
   "execution_count": 15,
   "id": "d38db889",
   "metadata": {},
   "outputs": [
    {
     "data": {
      "text/plain": [
       "[{'nome': 'Salada Caesar',\n",
       "  'ingredientes': [{'ingrediente': 'alface romana',\n",
       "    'quantidade': '1 cabeça',\n",
       "    'custo': '2.00'},\n",
       "   {'ingrediente': 'croutons', 'quantidade': '1 xícara', 'custo': '1.50'},\n",
       "   {'ingrediente': 'queijo parmesão', 'quantidade': '50g', 'custo': '3.00'},\n",
       "   {'ingrediente': 'peito de frango grelhado',\n",
       "    'quantidade': '300g',\n",
       "    'custo': '6.00'},\n",
       "   {'ingrediente': 'molho Caesar', 'quantidade': '150ml', 'custo': '2.50'}],\n",
       "  'instrucoes': 'Misture os ingredientes, adicione o frango grelhado e regue com molho Caesar.'}]"
      ]
     },
     "execution_count": 15,
     "metadata": {},
     "output_type": "execute_result"
    }
   ],
   "source": [
    "x"
   ]
  },
  {
   "cell_type": "markdown",
   "id": "4ddd7cc0-82fa-45f7-872e-0911c0cfe504",
   "metadata": {},
   "source": [
    "## 3.4 - Adiciona Elemento"
   ]
  },
  {
   "cell_type": "code",
   "execution_count": 8,
   "id": "de298c16-569b-4506-8407-b67e662e5710",
   "metadata": {},
   "outputs": [
    {
     "name": "stdin",
     "output_type": "stream",
     "text": [
      "Digite o nome da nova receita:  Bolinho de arroz\n",
      "Digite o nome do ingrediente (ou 'fim' para encerrar):  ovo\n",
      "Digite a quantidade do ingrediente:  1\n",
      "Digite o valor do ingrediente:  0.50\n",
      "Digite o nome do ingrediente (ou 'fim' para encerrar):  fim\n",
      "Digite a instrução de preparo da receita:  acredita\n"
     ]
    },
    {
     "data": {
      "text/plain": [
       "{'nome': 'Bolinho de arroz',\n",
       " 'ingredientes': [{'nome': 'Ovo', 'quantidade': 1.0, 'custo': 0.5}],\n",
       " 'instrucoes': 'Acredita'}"
      ]
     },
     "execution_count": 8,
     "metadata": {},
     "output_type": "execute_result"
    }
   ],
   "source": [
    "criar_nova_receita()"
   ]
  }
 ],
 "metadata": {
  "kernelspec": {
   "display_name": "Python 3 (ipykernel)",
   "language": "python",
   "name": "python3"
  },
  "language_info": {
   "codemirror_mode": {
    "name": "ipython",
    "version": 3
   },
   "file_extension": ".py",
   "mimetype": "text/x-python",
   "name": "python",
   "nbconvert_exporter": "python",
   "pygments_lexer": "ipython3",
   "version": "3.11.5"
  }
 },
 "nbformat": 4,
 "nbformat_minor": 5
}
